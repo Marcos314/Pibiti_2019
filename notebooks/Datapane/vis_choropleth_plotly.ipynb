{
 "cells": [
  {
   "cell_type": "code",
   "execution_count": 2,
   "metadata": {},
   "outputs": [],
   "source": [
    "# basic modules\n",
    "import geopandas as gpd\n",
    "import pandas as pd \n",
    "import json \n",
    "import os \n",
    "# visualizaztion modules \n",
    "from chart_studio.plotly import iplot\n",
    "# deploy\n",
    "import datapane as dp\n",
    "import plotly.express as px"
   ]
  },
  {
   "cell_type": "code",
   "execution_count": 3,
   "metadata": {},
   "outputs": [],
   "source": [
    "# obtendo os dados csv\n",
    "df = pd.read_csv('/home/marcos/Desktop/dados/dadosVis/df1.csv')\n",
    "# obtendo os dados shp\n",
    "gdf = gpd.read_file('/home/marcos/Desktop/dados/ride_shp/rideTotal2.shp')"
   ]
  },
  {
   "cell_type": "code",
   "execution_count": 4,
   "metadata": {},
   "outputs": [],
   "source": [
    "def json_data(selectYear):\n",
    "    ano = selectYear\n",
    "    dfYear = df[df['MES_REFERENCIA'] == ano]\n",
    "    merged = gdf.merge(dfYear, left_on ='NM_MUNICIP', right_on ='NOME_MUNICIPIO', how ='left')\n",
    "    merged['Valor'] = merged.VALOR_PARCELA.fillna(\"N/A\")\n",
    "    del merged['NOME_MUNICIPIO']\n",
    "    del merged['VALOR_PARCELA']\n",
    "    merged_json = json.loads(merged.to_json())\n",
    "    json_data = json.dumps(merged_json)\n",
    "    return json_data"
   ]
  },
  {
   "cell_type": "code",
   "execution_count": 10,
   "metadata": {},
   "outputs": [],
   "source": [
    "#OBTER UM ARQUIVO JSON COM TODOS OS ANOS\n",
    "# f = open('2016.json', 'w')\n",
    "# f.write(json_data('2016'))\n",
    "with open('/home/marcos/Desktop/dados/dadosVis/media_ano.json', 'r') as json_file:\n",
    "    dados = json.load(json_file)"
   ]
  },
  {
   "cell_type": "code",
   "execution_count": null,
   "metadata": {},
   "outputs": [],
   "source": [
    "# Figure\n",
    "geosource = json_data('2016')\n",
    "\n",
    "fig = px.choropleth(df, geojson=dados, color=\"VALOR_PARCELA\",\n",
    "                   locations=\"NOME_MUNICIPIO\", featureidkey=\"properties.NM_MUNICIP\",\n",
    "                    projection=\"mercator\")\n",
    "fig.update_geos(fitbounds=\"locations\", visible=False)\n",
    "fig.update_layout(margin={\"r\":0,\"t\":0,\"l\":0,\"b\":0})\n",
    "fig.show()"
   ]
  },
  {
   "cell_type": "code",
   "execution_count": null,
   "metadata": {},
   "outputs": [],
   "source": []
  }
 ],
 "metadata": {
  "kernelspec": {
   "display_name": "Python 3",
   "language": "python",
   "name": "python3"
  },
  "language_info": {
   "codemirror_mode": {
    "name": "ipython",
    "version": 3
   },
   "file_extension": ".py",
   "mimetype": "text/x-python",
   "name": "python",
   "nbconvert_exporter": "python",
   "pygments_lexer": "ipython3",
   "version": "3.7.6"
  }
 },
 "nbformat": 4,
 "nbformat_minor": 4
}
