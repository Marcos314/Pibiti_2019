{
 "cells": [
  {
   "cell_type": "code",
   "execution_count": 1,
   "metadata": {},
   "outputs": [],
   "source": [
    "import pandas as pd\n",
    "import altair as alt\n",
    "import datapane\n",
    "from datapane import Table, Plot, Report\n",
    "\n",
    "\n",
    "\n",
    "df = pd.read_csv('https://query1.finance.yahoo.com/v7/finance/download/GOOG?period1=1553600505&period2=1585222905&interval=1d&events=history')\n",
    "chart = alt.Chart(df).encode(x='Date', y='High', y2='Low').mark_area(opacity=0.5).interactive()\n",
    "\n",
    "datapane.Report(\n",
    "  datapane.Table(df['High']), \n",
    "  datapane.Plot(chart)\n",
    ").save(path='stocks.html')"
   ]
  },
  {
   "cell_type": "code",
   "execution_count": 2,
   "metadata": {
    "collapsed": true
   },
   "outputs": [
    {
     "name": "stdout",
     "output_type": "stream",
     "text": [
      "Collecting datapane\n",
      "  Using cached datapane-0.6.6-py3-none-any.whl (2.6 MB)\n",
      "Requirement already satisfied: plotly<5.0.0,>=4.8.1 in /home/marcos/anaconda3/lib/python3.7/site-packages (from datapane) (4.8.1)\n",
      "Requirement already satisfied: PyYAML<6.0.0,>=5.3.0 in /home/marcos/anaconda3/lib/python3.7/site-packages (from datapane) (5.3)\n",
      "Requirement already satisfied: ruamel.yaml<0.17.0,>=0.16.5 in /home/marcos/anaconda3/lib/python3.7/site-packages (from datapane) (0.16.10)\n",
      "Requirement already satisfied: toolz<0.11.0,>=0.10.0 in /home/marcos/anaconda3/lib/python3.7/site-packages (from datapane) (0.10.0)\n",
      "Requirement already satisfied: numpy<2.0.0,>=1.18.0 in /home/marcos/anaconda3/lib/python3.7/site-packages (from datapane) (1.18.1)\n",
      "Requirement already satisfied: altair>=3.0.1 in /home/marcos/anaconda3/lib/python3.7/site-packages (from datapane) (4.1.0)\n",
      "Requirement already satisfied: pyarrow<0.18.0,>=0.17.0 in /home/marcos/anaconda3/lib/python3.7/site-packages (from datapane) (0.17.1)\n",
      "Requirement already satisfied: tabulate<0.9.0,>=0.8.7 in /home/marcos/anaconda3/lib/python3.7/site-packages (from datapane) (0.8.7)\n",
      "Requirement already satisfied: validators<0.16.0,>=0.15.0 in /home/marcos/anaconda3/lib/python3.7/site-packages (from datapane) (0.15.0)\n",
      "Requirement already satisfied: munch<3.0.0,>=2.5.0 in /home/marcos/anaconda3/lib/python3.7/site-packages (from datapane) (2.5.0)\n",
      "Requirement already satisfied: matplotlib<4.0.0,>=3.1.0 in /home/marcos/anaconda3/lib/python3.7/site-packages (from datapane) (3.1.3)\n",
      "Requirement already satisfied: jsonschema<4.0.0,>=3.2.0 in /home/marcos/anaconda3/lib/python3.7/site-packages (from datapane) (3.2.0)\n",
      "Requirement already satisfied: nbconvert<6.0.0,>=5.6.1 in /home/marcos/anaconda3/lib/python3.7/site-packages (from datapane) (5.6.1)\n",
      "Requirement already satisfied: jinja2<3.0.0,>=2.11.1 in /home/marcos/anaconda3/lib/python3.7/site-packages (from datapane) (2.11.1)\n",
      "Requirement already satisfied: colorlog<5.0.0,>=4.1.0 in /home/marcos/anaconda3/lib/python3.7/site-packages (from datapane) (4.1.0)\n",
      "Requirement already satisfied: importlib_resources<2.0.0,>=1.5.0 in /home/marcos/anaconda3/lib/python3.7/site-packages (from datapane) (1.5.0)\n",
      "Requirement already satisfied: flit-core<2.4.0,>=2.3.0 in /home/marcos/anaconda3/lib/python3.7/site-packages (from datapane) (2.3.0)\n",
      "Requirement already satisfied: packaging<21.0,>=20.3 in /home/marcos/anaconda3/lib/python3.7/site-packages (from datapane) (20.4)\n",
      "Requirement already satisfied: click-spinner<0.2.0,>=0.1.8 in /home/marcos/anaconda3/lib/python3.7/site-packages (from datapane) (0.1.10)\n",
      "Requirement already satisfied: folium<0.12.0,>=0.11.0 in /home/marcos/anaconda3/lib/python3.7/site-packages (from datapane) (0.11.0)\n",
      "Requirement already satisfied: stringcase<2.0.0,>=1.2.0 in /home/marcos/anaconda3/lib/python3.7/site-packages (from datapane) (1.2.0)\n",
      "Requirement already satisfied: dacite<2.0.0,>=1.2.0 in /home/marcos/anaconda3/lib/python3.7/site-packages (from datapane) (1.5.0)\n",
      "Requirement already satisfied: bokeh<3.0.0,>=2.0.0 in /home/marcos/anaconda3/lib/python3.7/site-packages (from datapane) (2.1.1)\n",
      "Requirement already satisfied: pandas<2.0.0,>=1.0.1 in /home/marcos/anaconda3/lib/python3.7/site-packages (from datapane) (1.0.1)\n",
      "Requirement already satisfied: click<8.0.0,>=7.0.0 in /home/marcos/anaconda3/lib/python3.7/site-packages (from datapane) (7.0)\n",
      "Requirement already satisfied: requests<3.0.0,>=2.20.0 in /home/marcos/anaconda3/lib/python3.7/site-packages (from datapane) (2.22.0)\n",
      "Requirement already satisfied: six in /home/marcos/anaconda3/lib/python3.7/site-packages (from plotly<5.0.0,>=4.8.1->datapane) (1.14.0)\n",
      "Requirement already satisfied: retrying>=1.3.3 in /home/marcos/anaconda3/lib/python3.7/site-packages (from plotly<5.0.0,>=4.8.1->datapane) (1.3.3)\n",
      "Requirement already satisfied: ruamel.yaml.clib>=0.1.2; platform_python_implementation == \"CPython\" and python_version < \"3.9\" in /home/marcos/anaconda3/lib/python3.7/site-packages (from ruamel.yaml<0.17.0,>=0.16.5->datapane) (0.2.0)\n",
      "Requirement already satisfied: entrypoints in /home/marcos/anaconda3/lib/python3.7/site-packages (from altair>=3.0.1->datapane) (0.3)\n",
      "Requirement already satisfied: decorator>=3.4.0 in /home/marcos/anaconda3/lib/python3.7/site-packages (from validators<0.16.0,>=0.15.0->datapane) (4.4.1)\n",
      "Requirement already satisfied: python-dateutil>=2.1 in /home/marcos/anaconda3/lib/python3.7/site-packages (from matplotlib<4.0.0,>=3.1.0->datapane) (2.8.1)\n",
      "Requirement already satisfied: kiwisolver>=1.0.1 in /home/marcos/anaconda3/lib/python3.7/site-packages (from matplotlib<4.0.0,>=3.1.0->datapane) (1.1.0)\n",
      "Requirement already satisfied: pyparsing!=2.0.4,!=2.1.2,!=2.1.6,>=2.0.1 in /home/marcos/anaconda3/lib/python3.7/site-packages (from matplotlib<4.0.0,>=3.1.0->datapane) (2.4.6)\n",
      "Requirement already satisfied: cycler>=0.10 in /home/marcos/anaconda3/lib/python3.7/site-packages (from matplotlib<4.0.0,>=3.1.0->datapane) (0.10.0)\n",
      "Requirement already satisfied: setuptools in /home/marcos/anaconda3/lib/python3.7/site-packages (from jsonschema<4.0.0,>=3.2.0->datapane) (45.2.0.post20200210)\n",
      "Requirement already satisfied: attrs>=17.4.0 in /home/marcos/anaconda3/lib/python3.7/site-packages (from jsonschema<4.0.0,>=3.2.0->datapane) (19.3.0)\n",
      "Requirement already satisfied: importlib-metadata; python_version < \"3.8\" in /home/marcos/anaconda3/lib/python3.7/site-packages (from jsonschema<4.0.0,>=3.2.0->datapane) (1.5.0)\n",
      "Requirement already satisfied: pyrsistent>=0.14.0 in /home/marcos/anaconda3/lib/python3.7/site-packages (from jsonschema<4.0.0,>=3.2.0->datapane) (0.15.7)\n",
      "Requirement already satisfied: traitlets>=4.2 in /home/marcos/anaconda3/lib/python3.7/site-packages (from nbconvert<6.0.0,>=5.6.1->datapane) (4.3.3)\n",
      "Requirement already satisfied: nbformat>=4.4 in /home/marcos/anaconda3/lib/python3.7/site-packages (from nbconvert<6.0.0,>=5.6.1->datapane) (5.0.4)\n",
      "Requirement already satisfied: jupyter-core in /home/marcos/anaconda3/lib/python3.7/site-packages (from nbconvert<6.0.0,>=5.6.1->datapane) (4.6.1)\n",
      "Requirement already satisfied: bleach in /home/marcos/anaconda3/lib/python3.7/site-packages (from nbconvert<6.0.0,>=5.6.1->datapane) (3.1.0)\n",
      "Requirement already satisfied: pandocfilters>=1.4.1 in /home/marcos/anaconda3/lib/python3.7/site-packages (from nbconvert<6.0.0,>=5.6.1->datapane) (1.4.2)\n",
      "Requirement already satisfied: defusedxml in /home/marcos/anaconda3/lib/python3.7/site-packages (from nbconvert<6.0.0,>=5.6.1->datapane) (0.6.0)\n",
      "Requirement already satisfied: testpath in /home/marcos/anaconda3/lib/python3.7/site-packages (from nbconvert<6.0.0,>=5.6.1->datapane) (0.4.4)\n",
      "Requirement already satisfied: pygments in /home/marcos/anaconda3/lib/python3.7/site-packages (from nbconvert<6.0.0,>=5.6.1->datapane) (2.5.2)\n",
      "Requirement already satisfied: mistune<2,>=0.8.1 in /home/marcos/anaconda3/lib/python3.7/site-packages (from nbconvert<6.0.0,>=5.6.1->datapane) (0.8.4)\n",
      "Requirement already satisfied: MarkupSafe>=0.23 in /home/marcos/anaconda3/lib/python3.7/site-packages (from jinja2<3.0.0,>=2.11.1->datapane) (1.1.1)\n",
      "Requirement already satisfied: zipp>=0.4; python_version < \"3.8\" in /home/marcos/anaconda3/lib/python3.7/site-packages (from importlib_resources<2.0.0,>=1.5.0->datapane) (2.2.0)\n",
      "Requirement already satisfied: pytoml in /home/marcos/anaconda3/lib/python3.7/site-packages (from flit-core<2.4.0,>=2.3.0->datapane) (0.1.21)\n",
      "Requirement already satisfied: branca>=0.3.0 in /home/marcos/anaconda3/lib/python3.7/site-packages (from folium<0.12.0,>=0.11.0->datapane) (0.4.1)\n",
      "Requirement already satisfied: tornado>=5.1 in /home/marcos/anaconda3/lib/python3.7/site-packages (from bokeh<3.0.0,>=2.0.0->datapane) (5.1.1)\n",
      "Requirement already satisfied: typing-extensions>=3.7.4 in /home/marcos/anaconda3/lib/python3.7/site-packages (from bokeh<3.0.0,>=2.0.0->datapane) (3.7.4.2)\n",
      "Requirement already satisfied: pillow>=4.0 in /home/marcos/anaconda3/lib/python3.7/site-packages (from bokeh<3.0.0,>=2.0.0->datapane) (7.0.0)\n",
      "Requirement already satisfied: pytz>=2017.2 in /home/marcos/anaconda3/lib/python3.7/site-packages (from pandas<2.0.0,>=1.0.1->datapane) (2019.3)\n",
      "Requirement already satisfied: chardet<3.1.0,>=3.0.2 in /home/marcos/anaconda3/lib/python3.7/site-packages (from requests<3.0.0,>=2.20.0->datapane) (3.0.4)\n",
      "Requirement already satisfied: urllib3!=1.25.0,!=1.25.1,<1.26,>=1.21.1 in /home/marcos/anaconda3/lib/python3.7/site-packages (from requests<3.0.0,>=2.20.0->datapane) (1.25.8)\n"
     ]
    },
    {
     "name": "stdout",
     "output_type": "stream",
     "text": [
      "Requirement already satisfied: idna<2.9,>=2.5 in /home/marcos/anaconda3/lib/python3.7/site-packages (from requests<3.0.0,>=2.20.0->datapane) (2.8)\n",
      "Requirement already satisfied: certifi>=2017.4.17 in /home/marcos/anaconda3/lib/python3.7/site-packages (from requests<3.0.0,>=2.20.0->datapane) (2019.11.28)\n",
      "Requirement already satisfied: ipython-genutils in /home/marcos/anaconda3/lib/python3.7/site-packages (from traitlets>=4.2->nbconvert<6.0.0,>=5.6.1->datapane) (0.2.0)\n",
      "Requirement already satisfied: webencodings in /home/marcos/anaconda3/lib/python3.7/site-packages (from bleach->nbconvert<6.0.0,>=5.6.1->datapane) (0.5.1)\n",
      "\u001b[31mERROR: datapane 0.6.6 has requirement ruamel.yaml<0.17.0,>=0.16.5, but you'll have ruamel-yaml 0.15.87 which is incompatible.\u001b[0m\n",
      "Installing collected packages: datapane\n",
      "Successfully installed datapane-0.6.6\n"
     ]
    }
   ],
   "source": [
    "!pip install datapane"
   ]
  },
  {
   "cell_type": "code",
   "execution_count": null,
   "metadata": {},
   "outputs": [],
   "source": []
  },
  {
   "cell_type": "code",
   "execution_count": null,
   "metadata": {},
   "outputs": [],
   "source": []
  }
 ],
 "metadata": {
  "kernelspec": {
   "display_name": "Python 3",
   "language": "python",
   "name": "python3"
  },
  "language_info": {
   "codemirror_mode": {
    "name": "ipython",
    "version": 3
   },
   "file_extension": ".py",
   "mimetype": "text/x-python",
   "name": "python",
   "nbconvert_exporter": "python",
   "pygments_lexer": "ipython3",
   "version": "3.7.6"
  }
 },
 "nbformat": 4,
 "nbformat_minor": 4
}
