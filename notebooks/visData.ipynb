{
 "cells": [
  {
   "cell_type": "markdown",
   "metadata": {},
   "source": [
    "# Visualizando dados RIDE"
   ]
  },
  {
   "cell_type": "code",
   "execution_count": 26,
   "metadata": {},
   "outputs": [],
   "source": [
    "import pandas as pd\n",
    "import csv\n",
    "import matplotlib.pyplot as plt\n",
    "from collections import OrderedDict\n",
    "pd.set_option(\"display.max_rows\", 2000)"
   ]
  },
  {
   "cell_type": "markdown",
   "metadata": {},
   "source": [
    "# Lendo os dados referentes ao mês de Março de 2013"
   ]
  },
  {
   "cell_type": "code",
   "execution_count": 27,
   "metadata": {},
   "outputs": [],
   "source": [
    "df = pd.read_csv('/home/marcos/Desktop/dados_teste/clean_data/201303.csv')\n",
    "del df['VALOR_PARCELA']\n",
    "del df['MES_REFERENCIA']\n",
    "del df['NOME_FAVORECIDO']\n",
    "#MES_REFERENCIA = 201303"
   ]
  },
  {
   "cell_type": "code",
   "execution_count": 28,
   "metadata": {},
   "outputs": [
    {
     "data": {
      "text/html": [
       "<div>\n",
       "<style scoped>\n",
       "    .dataframe tbody tr th:only-of-type {\n",
       "        vertical-align: middle;\n",
       "    }\n",
       "\n",
       "    .dataframe tbody tr th {\n",
       "        vertical-align: top;\n",
       "    }\n",
       "\n",
       "    .dataframe thead th {\n",
       "        text-align: right;\n",
       "    }\n",
       "</style>\n",
       "<table border=\"1\" class=\"dataframe\">\n",
       "  <thead>\n",
       "    <tr style=\"text-align: right;\">\n",
       "      <th></th>\n",
       "      <th>MES_COMPETENCIA</th>\n",
       "      <th>UF</th>\n",
       "      <th>CODIGO_MUNICIPIO_SIAFI</th>\n",
       "      <th>NOME_MUNICIPIO</th>\n",
       "      <th>NIS_FAVORECIDO</th>\n",
       "    </tr>\n",
       "  </thead>\n",
       "  <tbody>\n",
       "    <tr>\n",
       "      <th>0</th>\n",
       "      <td>201209</td>\n",
       "      <td>DF</td>\n",
       "      <td>9701</td>\n",
       "      <td>BRASILIA</td>\n",
       "      <td>16129643064</td>\n",
       "    </tr>\n",
       "    <tr>\n",
       "      <th>1</th>\n",
       "      <td>201209</td>\n",
       "      <td>DF</td>\n",
       "      <td>9701</td>\n",
       "      <td>BRASILIA</td>\n",
       "      <td>16476322398</td>\n",
       "    </tr>\n",
       "    <tr>\n",
       "      <th>2</th>\n",
       "      <td>201209</td>\n",
       "      <td>DF</td>\n",
       "      <td>9701</td>\n",
       "      <td>BRASILIA</td>\n",
       "      <td>16417040640</td>\n",
       "    </tr>\n",
       "    <tr>\n",
       "      <th>3</th>\n",
       "      <td>201210</td>\n",
       "      <td>DF</td>\n",
       "      <td>9701</td>\n",
       "      <td>BRASILIA</td>\n",
       "      <td>16129643064</td>\n",
       "    </tr>\n",
       "    <tr>\n",
       "      <th>4</th>\n",
       "      <td>201210</td>\n",
       "      <td>DF</td>\n",
       "      <td>9701</td>\n",
       "      <td>BRASILIA</td>\n",
       "      <td>16476322398</td>\n",
       "    </tr>\n",
       "  </tbody>\n",
       "</table>\n",
       "</div>"
      ],
      "text/plain": [
       "   MES_COMPETENCIA  UF  CODIGO_MUNICIPIO_SIAFI NOME_MUNICIPIO  NIS_FAVORECIDO\n",
       "0           201209  DF                    9701       BRASILIA     16129643064\n",
       "1           201209  DF                    9701       BRASILIA     16476322398\n",
       "2           201209  DF                    9701       BRASILIA     16417040640\n",
       "3           201210  DF                    9701       BRASILIA     16129643064\n",
       "4           201210  DF                    9701       BRASILIA     16476322398"
      ]
     },
     "execution_count": 28,
     "metadata": {},
     "output_type": "execute_result"
    }
   ],
   "source": [
    "df.head()"
   ]
  },
  {
   "cell_type": "markdown",
   "metadata": {},
   "source": [
    "## Informações sobre o dataframe"
   ]
  },
  {
   "cell_type": "code",
   "execution_count": 29,
   "metadata": {},
   "outputs": [],
   "source": [
    "df = df.astype('category') #MUDANDO O DATAFRAME DE NUMERIC PARA CATEGORICAL"
   ]
  },
  {
   "cell_type": "code",
   "execution_count": 30,
   "metadata": {},
   "outputs": [
    {
     "data": {
      "text/html": [
       "<div>\n",
       "<style scoped>\n",
       "    .dataframe tbody tr th:only-of-type {\n",
       "        vertical-align: middle;\n",
       "    }\n",
       "\n",
       "    .dataframe tbody tr th {\n",
       "        vertical-align: top;\n",
       "    }\n",
       "\n",
       "    .dataframe thead th {\n",
       "        text-align: right;\n",
       "    }\n",
       "</style>\n",
       "<table border=\"1\" class=\"dataframe\">\n",
       "  <thead>\n",
       "    <tr style=\"text-align: right;\">\n",
       "      <th></th>\n",
       "      <th>MES_COMPETENCIA</th>\n",
       "      <th>UF</th>\n",
       "      <th>CODIGO_MUNICIPIO_SIAFI</th>\n",
       "      <th>NOME_MUNICIPIO</th>\n",
       "      <th>NIS_FAVORECIDO</th>\n",
       "    </tr>\n",
       "  </thead>\n",
       "  <tbody>\n",
       "    <tr>\n",
       "      <th>count</th>\n",
       "      <td>198963</td>\n",
       "      <td>198963</td>\n",
       "      <td>198963</td>\n",
       "      <td>198963</td>\n",
       "      <td>198963</td>\n",
       "    </tr>\n",
       "    <tr>\n",
       "      <th>unique</th>\n",
       "      <td>7</td>\n",
       "      <td>3</td>\n",
       "      <td>34</td>\n",
       "      <td>34</td>\n",
       "      <td>198006</td>\n",
       "    </tr>\n",
       "    <tr>\n",
       "      <th>top</th>\n",
       "      <td>201303</td>\n",
       "      <td>GO</td>\n",
       "      <td>9701</td>\n",
       "      <td>BRASILIA</td>\n",
       "      <td>16410149051</td>\n",
       "    </tr>\n",
       "    <tr>\n",
       "      <th>freq</th>\n",
       "      <td>198028</td>\n",
       "      <td>98389</td>\n",
       "      <td>91121</td>\n",
       "      <td>91121</td>\n",
       "      <td>7</td>\n",
       "    </tr>\n",
       "  </tbody>\n",
       "</table>\n",
       "</div>"
      ],
      "text/plain": [
       "        MES_COMPETENCIA      UF  CODIGO_MUNICIPIO_SIAFI NOME_MUNICIPIO  \\\n",
       "count            198963  198963                  198963         198963   \n",
       "unique                7       3                      34             34   \n",
       "top              201303      GO                    9701       BRASILIA   \n",
       "freq             198028   98389                   91121          91121   \n",
       "\n",
       "        NIS_FAVORECIDO  \n",
       "count           198963  \n",
       "unique          198006  \n",
       "top        16410149051  \n",
       "freq                 7  "
      ]
     },
     "execution_count": 30,
     "metadata": {},
     "output_type": "execute_result"
    }
   ],
   "source": [
    "df.describe(include='all')"
   ]
  },
  {
   "cell_type": "code",
   "execution_count": 31,
   "metadata": {},
   "outputs": [
    {
     "data": {
      "text/html": [
       "<div>\n",
       "<style scoped>\n",
       "    .dataframe tbody tr th:only-of-type {\n",
       "        vertical-align: middle;\n",
       "    }\n",
       "\n",
       "    .dataframe tbody tr th {\n",
       "        vertical-align: top;\n",
       "    }\n",
       "\n",
       "    .dataframe thead th {\n",
       "        text-align: right;\n",
       "    }\n",
       "</style>\n",
       "<table border=\"1\" class=\"dataframe\">\n",
       "  <thead>\n",
       "    <tr style=\"text-align: right;\">\n",
       "      <th></th>\n",
       "      <th>MES_COMPETENCIA</th>\n",
       "      <th>UF</th>\n",
       "      <th>CODIGO_MUNICIPIO_SIAFI</th>\n",
       "      <th>NOME_MUNICIPIO</th>\n",
       "    </tr>\n",
       "    <tr>\n",
       "      <th>NIS_FAVORECIDO</th>\n",
       "      <th></th>\n",
       "      <th></th>\n",
       "      <th></th>\n",
       "      <th></th>\n",
       "    </tr>\n",
       "  </thead>\n",
       "  <tbody>\n",
       "    <tr>\n",
       "      <th>16129643064</th>\n",
       "      <td>201209</td>\n",
       "      <td>DF</td>\n",
       "      <td>9701</td>\n",
       "      <td>BRASILIA</td>\n",
       "    </tr>\n",
       "    <tr>\n",
       "      <th>16476322398</th>\n",
       "      <td>201209</td>\n",
       "      <td>DF</td>\n",
       "      <td>9701</td>\n",
       "      <td>BRASILIA</td>\n",
       "    </tr>\n",
       "    <tr>\n",
       "      <th>16417040640</th>\n",
       "      <td>201209</td>\n",
       "      <td>DF</td>\n",
       "      <td>9701</td>\n",
       "      <td>BRASILIA</td>\n",
       "    </tr>\n",
       "    <tr>\n",
       "      <th>16129643064</th>\n",
       "      <td>201210</td>\n",
       "      <td>DF</td>\n",
       "      <td>9701</td>\n",
       "      <td>BRASILIA</td>\n",
       "    </tr>\n",
       "    <tr>\n",
       "      <th>16476322398</th>\n",
       "      <td>201210</td>\n",
       "      <td>DF</td>\n",
       "      <td>9701</td>\n",
       "      <td>BRASILIA</td>\n",
       "    </tr>\n",
       "  </tbody>\n",
       "</table>\n",
       "</div>"
      ],
      "text/plain": [
       "               MES_COMPETENCIA  UF CODIGO_MUNICIPIO_SIAFI NOME_MUNICIPIO\n",
       "NIS_FAVORECIDO                                                          \n",
       "16129643064             201209  DF                   9701       BRASILIA\n",
       "16476322398             201209  DF                   9701       BRASILIA\n",
       "16417040640             201209  DF                   9701       BRASILIA\n",
       "16129643064             201210  DF                   9701       BRASILIA\n",
       "16476322398             201210  DF                   9701       BRASILIA"
      ]
     },
     "execution_count": 31,
     "metadata": {},
     "output_type": "execute_result"
    }
   ],
   "source": [
    "df2 = df.set_index('NIS_FAVORECIDO')\n",
    "df2.head()\n",
    "#df2.loc['16437903555']\n"
   ]
  },
  {
   "cell_type": "markdown",
   "metadata": {},
   "source": [
    "## Agrupando o datagrame por UF E NIS"
   ]
  },
  {
   "cell_type": "code",
   "execution_count": 32,
   "metadata": {},
   "outputs": [],
   "source": [
    "df3 = df\n",
    "gp = df3.groupby(['UF'])"
   ]
  },
  {
   "cell_type": "code",
   "execution_count": 33,
   "metadata": {},
   "outputs": [
    {
     "data": {
      "text/html": [
       "<div>\n",
       "<style scoped>\n",
       "    .dataframe tbody tr th:only-of-type {\n",
       "        vertical-align: middle;\n",
       "    }\n",
       "\n",
       "    .dataframe tbody tr th {\n",
       "        vertical-align: top;\n",
       "    }\n",
       "\n",
       "    .dataframe thead th {\n",
       "        text-align: right;\n",
       "    }\n",
       "</style>\n",
       "<table border=\"1\" class=\"dataframe\">\n",
       "  <thead>\n",
       "    <tr style=\"text-align: right;\">\n",
       "      <th></th>\n",
       "      <th>MES_COMPETENCIA</th>\n",
       "      <th>UF</th>\n",
       "      <th>CODIGO_MUNICIPIO_SIAFI</th>\n",
       "      <th>NOME_MUNICIPIO</th>\n",
       "      <th>NIS_FAVORECIDO</th>\n",
       "    </tr>\n",
       "  </thead>\n",
       "  <tbody>\n",
       "    <tr>\n",
       "      <th>0</th>\n",
       "      <td>201209</td>\n",
       "      <td>DF</td>\n",
       "      <td>9701</td>\n",
       "      <td>BRASILIA</td>\n",
       "      <td>16129643064</td>\n",
       "    </tr>\n",
       "    <tr>\n",
       "      <th>91121</th>\n",
       "      <td>201209</td>\n",
       "      <td>GO</td>\n",
       "      <td>9211</td>\n",
       "      <td>ALTO PARAISO DE GOIAS</td>\n",
       "      <td>16410149051</td>\n",
       "    </tr>\n",
       "    <tr>\n",
       "      <th>91127</th>\n",
       "      <td>201209</td>\n",
       "      <td>MG</td>\n",
       "      <td>578</td>\n",
       "      <td>CABECEIRA GRANDE</td>\n",
       "      <td>12876546983</td>\n",
       "    </tr>\n",
       "  </tbody>\n",
       "</table>\n",
       "</div>"
      ],
      "text/plain": [
       "      MES_COMPETENCIA  UF CODIGO_MUNICIPIO_SIAFI         NOME_MUNICIPIO  \\\n",
       "0              201209  DF                   9701               BRASILIA   \n",
       "91121          201209  GO                   9211  ALTO PARAISO DE GOIAS   \n",
       "91127          201209  MG                    578       CABECEIRA GRANDE   \n",
       "\n",
       "      NIS_FAVORECIDO  \n",
       "0        16129643064  \n",
       "91121    16410149051  \n",
       "91127    12876546983  "
      ]
     },
     "execution_count": 33,
     "metadata": {},
     "output_type": "execute_result"
    }
   ],
   "source": [
    "gp.head(1)"
   ]
  },
  {
   "cell_type": "code",
   "execution_count": 34,
   "metadata": {},
   "outputs": [],
   "source": [
    "del df3['MES_COMPETENCIA']"
   ]
  },
  {
   "cell_type": "code",
   "execution_count": 35,
   "metadata": {},
   "outputs": [],
   "source": [
    "gp = df3.groupby(['UF'])"
   ]
  },
  {
   "cell_type": "code",
   "execution_count": 36,
   "metadata": {},
   "outputs": [
    {
     "data": {
      "text/html": [
       "<div>\n",
       "<style scoped>\n",
       "    .dataframe tbody tr th:only-of-type {\n",
       "        vertical-align: middle;\n",
       "    }\n",
       "\n",
       "    .dataframe tbody tr th {\n",
       "        vertical-align: top;\n",
       "    }\n",
       "\n",
       "    .dataframe thead th {\n",
       "        text-align: right;\n",
       "    }\n",
       "</style>\n",
       "<table border=\"1\" class=\"dataframe\">\n",
       "  <thead>\n",
       "    <tr style=\"text-align: right;\">\n",
       "      <th></th>\n",
       "      <th>UF</th>\n",
       "      <th>CODIGO_MUNICIPIO_SIAFI</th>\n",
       "      <th>NOME_MUNICIPIO</th>\n",
       "      <th>NIS_FAVORECIDO</th>\n",
       "    </tr>\n",
       "  </thead>\n",
       "  <tbody>\n",
       "    <tr>\n",
       "      <th>0</th>\n",
       "      <td>DF</td>\n",
       "      <td>9701</td>\n",
       "      <td>BRASILIA</td>\n",
       "      <td>16129643064</td>\n",
       "    </tr>\n",
       "    <tr>\n",
       "      <th>91121</th>\n",
       "      <td>GO</td>\n",
       "      <td>9211</td>\n",
       "      <td>ALTO PARAISO DE GOIAS</td>\n",
       "      <td>16410149051</td>\n",
       "    </tr>\n",
       "    <tr>\n",
       "      <th>91127</th>\n",
       "      <td>MG</td>\n",
       "      <td>578</td>\n",
       "      <td>CABECEIRA GRANDE</td>\n",
       "      <td>12876546983</td>\n",
       "    </tr>\n",
       "  </tbody>\n",
       "</table>\n",
       "</div>"
      ],
      "text/plain": [
       "       UF CODIGO_MUNICIPIO_SIAFI         NOME_MUNICIPIO NIS_FAVORECIDO\n",
       "0      DF                   9701               BRASILIA    16129643064\n",
       "91121  GO                   9211  ALTO PARAISO DE GOIAS    16410149051\n",
       "91127  MG                    578       CABECEIRA GRANDE    12876546983"
      ]
     },
     "execution_count": 36,
     "metadata": {},
     "output_type": "execute_result"
    }
   ],
   "source": [
    "gp.head(1)"
   ]
  },
  {
   "cell_type": "code",
   "execution_count": 37,
   "metadata": {},
   "outputs": [],
   "source": [
    "df4 = df3"
   ]
  },
  {
   "cell_type": "code",
   "execution_count": 38,
   "metadata": {},
   "outputs": [
    {
     "data": {
      "text/html": [
       "<div>\n",
       "<style scoped>\n",
       "    .dataframe tbody tr th:only-of-type {\n",
       "        vertical-align: middle;\n",
       "    }\n",
       "\n",
       "    .dataframe tbody tr th {\n",
       "        vertical-align: top;\n",
       "    }\n",
       "\n",
       "    .dataframe thead th {\n",
       "        text-align: right;\n",
       "    }\n",
       "</style>\n",
       "<table border=\"1\" class=\"dataframe\">\n",
       "  <thead>\n",
       "    <tr style=\"text-align: right;\">\n",
       "      <th></th>\n",
       "      <th>UF</th>\n",
       "      <th>CODIGO_MUNICIPIO_SIAFI</th>\n",
       "      <th>NOME_MUNICIPIO</th>\n",
       "      <th>NIS_FAVORECIDO</th>\n",
       "    </tr>\n",
       "  </thead>\n",
       "  <tbody>\n",
       "    <tr>\n",
       "      <th>0</th>\n",
       "      <td>DF</td>\n",
       "      <td>9701</td>\n",
       "      <td>BRASILIA</td>\n",
       "      <td>16129643064</td>\n",
       "    </tr>\n",
       "    <tr>\n",
       "      <th>1</th>\n",
       "      <td>DF</td>\n",
       "      <td>9701</td>\n",
       "      <td>BRASILIA</td>\n",
       "      <td>16476322398</td>\n",
       "    </tr>\n",
       "    <tr>\n",
       "      <th>2</th>\n",
       "      <td>DF</td>\n",
       "      <td>9701</td>\n",
       "      <td>BRASILIA</td>\n",
       "      <td>16417040640</td>\n",
       "    </tr>\n",
       "  </tbody>\n",
       "</table>\n",
       "</div>"
      ],
      "text/plain": [
       "   UF CODIGO_MUNICIPIO_SIAFI NOME_MUNICIPIO NIS_FAVORECIDO\n",
       "0  DF                   9701       BRASILIA    16129643064\n",
       "1  DF                   9701       BRASILIA    16476322398\n",
       "2  DF                   9701       BRASILIA    16417040640"
      ]
     },
     "execution_count": 38,
     "metadata": {},
     "output_type": "execute_result"
    }
   ],
   "source": [
    "df4.head(3)"
   ]
  },
  {
   "cell_type": "code",
   "execution_count": 39,
   "metadata": {
    "scrolled": true
   },
   "outputs": [
    {
     "data": {
      "text/html": [
       "<div>\n",
       "<style scoped>\n",
       "    .dataframe tbody tr th:only-of-type {\n",
       "        vertical-align: middle;\n",
       "    }\n",
       "\n",
       "    .dataframe tbody tr th {\n",
       "        vertical-align: top;\n",
       "    }\n",
       "\n",
       "    .dataframe thead th {\n",
       "        text-align: right;\n",
       "    }\n",
       "</style>\n",
       "<table border=\"1\" class=\"dataframe\">\n",
       "  <thead>\n",
       "    <tr style=\"text-align: right;\">\n",
       "      <th></th>\n",
       "      <th>CODIGO_MUNICIPIO_SIAFI</th>\n",
       "      <th>NOME_MUNICIPIO</th>\n",
       "      <th>NIS_FAVORECIDO</th>\n",
       "    </tr>\n",
       "    <tr>\n",
       "      <th>UF</th>\n",
       "      <th></th>\n",
       "      <th></th>\n",
       "      <th></th>\n",
       "    </tr>\n",
       "  </thead>\n",
       "  <tbody>\n",
       "    <tr>\n",
       "      <th>DF</th>\n",
       "      <td>91121</td>\n",
       "      <td>91121</td>\n",
       "      <td>91121</td>\n",
       "    </tr>\n",
       "    <tr>\n",
       "      <th>GO</th>\n",
       "      <td>98389</td>\n",
       "      <td>98389</td>\n",
       "      <td>98389</td>\n",
       "    </tr>\n",
       "    <tr>\n",
       "      <th>MG</th>\n",
       "      <td>9453</td>\n",
       "      <td>9453</td>\n",
       "      <td>9453</td>\n",
       "    </tr>\n",
       "  </tbody>\n",
       "</table>\n",
       "</div>"
      ],
      "text/plain": [
       "    CODIGO_MUNICIPIO_SIAFI  NOME_MUNICIPIO  NIS_FAVORECIDO\n",
       "UF                                                        \n",
       "DF                   91121           91121           91121\n",
       "GO                   98389           98389           98389\n",
       "MG                    9453            9453            9453"
      ]
     },
     "execution_count": 39,
     "metadata": {},
     "output_type": "execute_result"
    }
   ],
   "source": [
    "df4.groupby('UF').count()"
   ]
  },
  {
   "cell_type": "code",
   "execution_count": 40,
   "metadata": {
    "scrolled": true
   },
   "outputs": [
    {
     "data": {
      "text/html": [
       "<div>\n",
       "<style scoped>\n",
       "    .dataframe tbody tr th:only-of-type {\n",
       "        vertical-align: middle;\n",
       "    }\n",
       "\n",
       "    .dataframe tbody tr th {\n",
       "        vertical-align: top;\n",
       "    }\n",
       "\n",
       "    .dataframe thead th {\n",
       "        text-align: right;\n",
       "    }\n",
       "</style>\n",
       "<table border=\"1\" class=\"dataframe\">\n",
       "  <thead>\n",
       "    <tr style=\"text-align: right;\">\n",
       "      <th></th>\n",
       "      <th>CODIGO_MUNICIPIO_SIAFI</th>\n",
       "      <th>NOME_MUNICIPIO</th>\n",
       "      <th>NIS_FAVORECIDO</th>\n",
       "      <th>QTD_NIS/UF</th>\n",
       "    </tr>\n",
       "    <tr>\n",
       "      <th>UF</th>\n",
       "      <th></th>\n",
       "      <th></th>\n",
       "      <th></th>\n",
       "      <th></th>\n",
       "    </tr>\n",
       "  </thead>\n",
       "  <tbody>\n",
       "    <tr>\n",
       "      <th>DF</th>\n",
       "      <td>91121</td>\n",
       "      <td>91121</td>\n",
       "      <td>91121</td>\n",
       "      <td>91121</td>\n",
       "    </tr>\n",
       "    <tr>\n",
       "      <th>GO</th>\n",
       "      <td>98389</td>\n",
       "      <td>98389</td>\n",
       "      <td>98389</td>\n",
       "      <td>98389</td>\n",
       "    </tr>\n",
       "    <tr>\n",
       "      <th>MG</th>\n",
       "      <td>9453</td>\n",
       "      <td>9453</td>\n",
       "      <td>9453</td>\n",
       "      <td>9453</td>\n",
       "    </tr>\n",
       "  </tbody>\n",
       "</table>\n",
       "</div>"
      ],
      "text/plain": [
       "    CODIGO_MUNICIPIO_SIAFI  NOME_MUNICIPIO  NIS_FAVORECIDO  QTD_NIS/UF\n",
       "UF                                                                    \n",
       "DF                   91121           91121           91121       91121\n",
       "GO                   98389           98389           98389       98389\n",
       "MG                    9453            9453            9453        9453"
      ]
     },
     "execution_count": 40,
     "metadata": {},
     "output_type": "execute_result"
    }
   ],
   "source": [
    "df4['QTD_NIS/UF'] = 0\n",
    "df4.groupby('UF').count()"
   ]
  },
  {
   "cell_type": "code",
   "execution_count": 41,
   "metadata": {},
   "outputs": [
    {
     "data": {
      "text/html": [
       "<div>\n",
       "<style scoped>\n",
       "    .dataframe tbody tr th:only-of-type {\n",
       "        vertical-align: middle;\n",
       "    }\n",
       "\n",
       "    .dataframe tbody tr th {\n",
       "        vertical-align: top;\n",
       "    }\n",
       "\n",
       "    .dataframe thead th {\n",
       "        text-align: right;\n",
       "    }\n",
       "</style>\n",
       "<table border=\"1\" class=\"dataframe\">\n",
       "  <thead>\n",
       "    <tr style=\"text-align: right;\">\n",
       "      <th></th>\n",
       "      <th>Estado</th>\n",
       "      <th>TotalBeneficiario</th>\n",
       "    </tr>\n",
       "  </thead>\n",
       "  <tbody>\n",
       "    <tr>\n",
       "      <th>0</th>\n",
       "      <td>DF</td>\n",
       "      <td>91121</td>\n",
       "    </tr>\n",
       "    <tr>\n",
       "      <th>1</th>\n",
       "      <td>GO</td>\n",
       "      <td>98389</td>\n",
       "    </tr>\n",
       "    <tr>\n",
       "      <th>2</th>\n",
       "      <td>MG</td>\n",
       "      <td>9453</td>\n",
       "    </tr>\n",
       "  </tbody>\n",
       "</table>\n",
       "</div>"
      ],
      "text/plain": [
       "  Estado  TotalBeneficiario\n",
       "0     DF              91121\n",
       "1     GO              98389\n",
       "2     MG               9453"
      ]
     },
     "execution_count": 41,
     "metadata": {},
     "output_type": "execute_result"
    }
   ],
   "source": [
    "data  = OrderedDict({\n",
    "    'Estado':['DF','GO','MG'],\n",
    "    'TotalBeneficiario':[91121,98389,9453]\n",
    "})\n",
    "df_qtd = pd.DataFrame(data)\n",
    "df_qtd"
   ]
  },
  {
   "cell_type": "markdown",
   "metadata": {},
   "source": [
    "## Gŕafico com Matplotlip"
   ]
  },
  {
   "cell_type": "code",
   "execution_count": 205,
   "metadata": {},
   "outputs": [],
   "source": [
    "#print(list(df_qtd['Estado']))\n",
    "y_axis = (df_qtd['TotalBeneficiario'].values)\n",
    "x_axis = list(df_qtd['Estado'])\n",
    "width_n = 0.3\n",
    "\n",
    "\n"
   ]
  },
  {
   "cell_type": "code",
   "execution_count": 215,
   "metadata": {},
   "outputs": [
    {
     "data": {
      "image/png": "[encoded data removed]",
      "text/plain": [
       "<Figure size 576x360 with 1 Axes>"
      ]
     },
     "metadata": {},
     "output_type": "display_data"
    }
   ],
   "source": [
    "plt.figure(figsize=(8,5))\n",
    "plt.bar(x_axis, y_axis, width=width_n, color='green')\n",
    "plt.style.use('ggplot')\n",
    "plt.title('Beneficiários por estado - Março 2013', y = 1.08)\n",
    "plt.annotate(df_qtd.loc[0,'TotalBeneficiario'], xy=('DF',df_qtd.loc[0,'TotalBeneficiario'] * (1.05)), ha='center')\n",
    "plt.annotate(df_qtd.loc[1,'TotalBeneficiario'], xy=('GO',df_qtd.loc[0,'TotalBeneficiario'] * (1.1)), ha='center')\n",
    "plt.annotate(df_qtd.loc[2,'TotalBeneficiario'], xy=('MG',df_qtd.loc[0,'TotalBeneficiario']/(7)), ha='center')\n",
    "\n",
    "plt.show()\n",
    "\n"
   ]
  },
  {
   "cell_type": "code",
   "execution_count": null,
   "metadata": {},
   "outputs": [],
   "source": []
  },
  {
   "cell_type": "code",
   "execution_count": null,
   "metadata": {},
   "outputs": [],
   "source": []
  },
  {
   "cell_type": "code",
   "execution_count": null,
   "metadata": {},
   "outputs": [],
   "source": []
  }
 ],
 "metadata": {
  "kernelspec": {
   "display_name": "Python 3",
   "language": "python",
   "name": "python3"
  },
  "language_info": {
   "codemirror_mode": {
    "name": "ipython",
    "version": 3
   },
   "file_extension": ".py",
   "mimetype": "text/x-python",
   "name": "python",
   "nbconvert_exporter": "python",
   "pygments_lexer": "ipython3",
   "version": "3.7.6"
  }
 },
 "nbformat": 4,
 "nbformat_minor": 4
}
