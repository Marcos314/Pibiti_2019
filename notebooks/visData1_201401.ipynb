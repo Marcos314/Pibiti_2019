{
 "cells": [
  {
   "cell_type": "markdown",
   "metadata": {},
   "source": [
    "# Dados cidades da RIDE - Janeiro de 2014"
   ]
  },
  {
   "cell_type": "code",
   "execution_count": 61,
   "metadata": {},
   "outputs": [],
   "source": [
    "#imports\n",
    "import pandas as pd\n",
    "import csv\n",
    "import matplotlib.pyplot as plt\n",
    "import seaborn as sns \n",
    "from sklearn.cluster import KMeans\n",
    "import warnings\n",
    "import os\n",
    "from collections import OrderedDict\n",
    "pd.set_option(\"display.max_rows\", 2000)\n",
    "warnings.filterwarnings(\"ignore\")"
   ]
  },
  {
   "cell_type": "code",
   "execution_count": 73,
   "metadata": {
    "scrolled": true
   },
   "outputs": [
    {
     "data": {
      "text/html": [
       "<div>\n",
       "<style scoped>\n",
       "    .dataframe tbody tr th:only-of-type {\n",
       "        vertical-align: middle;\n",
       "    }\n",
       "\n",
       "    .dataframe tbody tr th {\n",
       "        vertical-align: top;\n",
       "    }\n",
       "\n",
       "    .dataframe thead th {\n",
       "        text-align: right;\n",
       "    }\n",
       "</style>\n",
       "<table border=\"1\" class=\"dataframe\">\n",
       "  <thead>\n",
       "    <tr style=\"text-align: right;\">\n",
       "      <th></th>\n",
       "      <th>MES_REFERENCIA</th>\n",
       "      <th>MES_COMPETENCIA</th>\n",
       "      <th>UF</th>\n",
       "      <th>CODIGO_MUNICIPIO_SIAFI</th>\n",
       "      <th>NOME_MUNICIPIO</th>\n",
       "      <th>NIS_FAVORECIDO</th>\n",
       "      <th>NOME_FAVORECIDO</th>\n",
       "      <th>VALOR_PARCELA</th>\n",
       "    </tr>\n",
       "  </thead>\n",
       "  <tbody>\n",
       "    <tr>\n",
       "      <th>0</th>\n",
       "      <td>201401</td>\n",
       "      <td>201302</td>\n",
       "      <td>DF</td>\n",
       "      <td>9701</td>\n",
       "      <td>BRASILIA</td>\n",
       "      <td>16207627750</td>\n",
       "      <td>CATIA MACIEL DE ALMEIDA RIBEIRO</td>\n",
       "      <td>102</td>\n",
       "    </tr>\n",
       "    <tr>\n",
       "      <th>1</th>\n",
       "      <td>201401</td>\n",
       "      <td>201303</td>\n",
       "      <td>DF</td>\n",
       "      <td>9701</td>\n",
       "      <td>BRASILIA</td>\n",
       "      <td>16207627750</td>\n",
       "      <td>CATIA MACIEL DE ALMEIDA RIBEIRO</td>\n",
       "      <td>102</td>\n",
       "    </tr>\n",
       "    <tr>\n",
       "      <th>2</th>\n",
       "      <td>201401</td>\n",
       "      <td>201304</td>\n",
       "      <td>DF</td>\n",
       "      <td>9701</td>\n",
       "      <td>BRASILIA</td>\n",
       "      <td>16207627750</td>\n",
       "      <td>CATIA MACIEL DE ALMEIDA RIBEIRO</td>\n",
       "      <td>102</td>\n",
       "    </tr>\n",
       "    <tr>\n",
       "      <th>3</th>\n",
       "      <td>201401</td>\n",
       "      <td>201305</td>\n",
       "      <td>DF</td>\n",
       "      <td>9701</td>\n",
       "      <td>BRASILIA</td>\n",
       "      <td>16207627750</td>\n",
       "      <td>CATIA MACIEL DE ALMEIDA RIBEIRO</td>\n",
       "      <td>102</td>\n",
       "    </tr>\n",
       "    <tr>\n",
       "      <th>4</th>\n",
       "      <td>201401</td>\n",
       "      <td>201306</td>\n",
       "      <td>DF</td>\n",
       "      <td>9701</td>\n",
       "      <td>BRASILIA</td>\n",
       "      <td>16207627750</td>\n",
       "      <td>CATIA MACIEL DE ALMEIDA RIBEIRO</td>\n",
       "      <td>102</td>\n",
       "    </tr>\n",
       "  </tbody>\n",
       "</table>\n",
       "</div>"
      ],
      "text/plain": [
       "   MES_REFERENCIA  MES_COMPETENCIA  UF  CODIGO_MUNICIPIO_SIAFI NOME_MUNICIPIO  \\\n",
       "0          201401           201302  DF                    9701       BRASILIA   \n",
       "1          201401           201303  DF                    9701       BRASILIA   \n",
       "2          201401           201304  DF                    9701       BRASILIA   \n",
       "3          201401           201305  DF                    9701       BRASILIA   \n",
       "4          201401           201306  DF                    9701       BRASILIA   \n",
       "\n",
       "   NIS_FAVORECIDO                  NOME_FAVORECIDO  VALOR_PARCELA  \n",
       "0     16207627750  CATIA MACIEL DE ALMEIDA RIBEIRO            102  \n",
       "1     16207627750  CATIA MACIEL DE ALMEIDA RIBEIRO            102  \n",
       "2     16207627750  CATIA MACIEL DE ALMEIDA RIBEIRO            102  \n",
       "3     16207627750  CATIA MACIEL DE ALMEIDA RIBEIRO            102  \n",
       "4     16207627750  CATIA MACIEL DE ALMEIDA RIBEIRO            102  "
      ]
     },
     "execution_count": 73,
     "metadata": {},
     "output_type": "execute_result"
    }
   ],
   "source": [
    "#Lendo o arquivo e criando um dataframe\n",
    "df = pd.read_csv('/home/marcos/Desktop/dados_teste/clean_data/201401.csv', low_memory=False)\n",
    "#df = df.astype('category')\n",
    "df.head()"
   ]
  },
  {
   "cell_type": "code",
   "execution_count": 74,
   "metadata": {},
   "outputs": [
    {
     "data": {
      "text/plain": [
       "(204644, 8)"
      ]
     },
     "execution_count": 74,
     "metadata": {},
     "output_type": "execute_result"
    }
   ],
   "source": [
    "df.shape"
   ]
  },
  {
   "cell_type": "code",
   "execution_count": 75,
   "metadata": {
    "scrolled": true
   },
   "outputs": [
    {
     "data": {
      "text/html": [
       "<div>\n",
       "<style scoped>\n",
       "    .dataframe tbody tr th:only-of-type {\n",
       "        vertical-align: middle;\n",
       "    }\n",
       "\n",
       "    .dataframe tbody tr th {\n",
       "        vertical-align: top;\n",
       "    }\n",
       "\n",
       "    .dataframe thead th {\n",
       "        text-align: right;\n",
       "    }\n",
       "</style>\n",
       "<table border=\"1\" class=\"dataframe\">\n",
       "  <thead>\n",
       "    <tr style=\"text-align: right;\">\n",
       "      <th></th>\n",
       "      <th>UF</th>\n",
       "      <th>CODIGO_MUNICIPIO_SIAFI</th>\n",
       "      <th>NOME_MUNICIPIO</th>\n",
       "      <th>NIS_FAVORECIDO</th>\n",
       "    </tr>\n",
       "  </thead>\n",
       "  <tbody>\n",
       "    <tr>\n",
       "      <th>0</th>\n",
       "      <td>DF</td>\n",
       "      <td>9701</td>\n",
       "      <td>BRASILIA</td>\n",
       "      <td>16207627750</td>\n",
       "    </tr>\n",
       "    <tr>\n",
       "      <th>1</th>\n",
       "      <td>DF</td>\n",
       "      <td>9701</td>\n",
       "      <td>BRASILIA</td>\n",
       "      <td>16207627750</td>\n",
       "    </tr>\n",
       "    <tr>\n",
       "      <th>2</th>\n",
       "      <td>DF</td>\n",
       "      <td>9701</td>\n",
       "      <td>BRASILIA</td>\n",
       "      <td>16207627750</td>\n",
       "    </tr>\n",
       "    <tr>\n",
       "      <th>3</th>\n",
       "      <td>DF</td>\n",
       "      <td>9701</td>\n",
       "      <td>BRASILIA</td>\n",
       "      <td>16207627750</td>\n",
       "    </tr>\n",
       "    <tr>\n",
       "      <th>4</th>\n",
       "      <td>DF</td>\n",
       "      <td>9701</td>\n",
       "      <td>BRASILIA</td>\n",
       "      <td>16207627750</td>\n",
       "    </tr>\n",
       "  </tbody>\n",
       "</table>\n",
       "</div>"
      ],
      "text/plain": [
       "   UF  CODIGO_MUNICIPIO_SIAFI NOME_MUNICIPIO  NIS_FAVORECIDO\n",
       "0  DF                    9701       BRASILIA     16207627750\n",
       "1  DF                    9701       BRASILIA     16207627750\n",
       "2  DF                    9701       BRASILIA     16207627750\n",
       "3  DF                    9701       BRASILIA     16207627750\n",
       "4  DF                    9701       BRASILIA     16207627750"
      ]
     },
     "execution_count": 75,
     "metadata": {},
     "output_type": "execute_result"
    }
   ],
   "source": [
    "'''Removendo colunas que não serão necessárias nesse momento lembrando que o \n",
    "MES_REFERENCIA = 201401'''\n",
    "\n",
    "del df['VALOR_PARCELA']\n",
    "del df['MES_REFERENCIA']\n",
    "del df['MES_COMPETENCIA']\n",
    "del df['NOME_FAVORECIDO']\n",
    "df.head()"
   ]
  },
  {
   "cell_type": "code",
   "execution_count": 76,
   "metadata": {
    "scrolled": true
   },
   "outputs": [
    {
     "data": {
      "text/plain": [
       "(204644, 4)"
      ]
     },
     "execution_count": 76,
     "metadata": {},
     "output_type": "execute_result"
    }
   ],
   "source": [
    "df.shape"
   ]
  },
  {
   "cell_type": "code",
   "execution_count": 77,
   "metadata": {
    "scrolled": false
   },
   "outputs": [
    {
     "data": {
      "text/plain": [
       "UF                        object\n",
       "CODIGO_MUNICIPIO_SIAFI     int64\n",
       "NOME_MUNICIPIO            object\n",
       "NIS_FAVORECIDO             int64\n",
       "dtype: object"
      ]
     },
     "execution_count": 77,
     "metadata": {},
     "output_type": "execute_result"
    }
   ],
   "source": [
    "df.dtypes"
   ]
  },
  {
   "cell_type": "code",
   "execution_count": 81,
   "metadata": {},
   "outputs": [
    {
     "data": {
      "text/plain": [
       "UF                        0\n",
       "CODIGO_MUNICIPIO_SIAFI    0\n",
       "NOME_MUNICIPIO            0\n",
       "NIS_FAVORECIDO            0\n",
       "dtype: int64"
      ]
     },
     "execution_count": 81,
     "metadata": {},
     "output_type": "execute_result"
    }
   ],
   "source": [
    "#verificação de campos nulos\n",
    "df.isnull().sum()"
   ]
  },
  {
   "cell_type": "markdown",
   "metadata": {},
   "source": [
    "## Visualização dos dados"
   ]
  },
  {
   "cell_type": "code",
   "execution_count": 92,
   "metadata": {},
   "outputs": [],
   "source": [
    "plt.style.use('fivethirtyeight')"
   ]
  },
  {
   "cell_type": "code",
   "execution_count": 93,
   "metadata": {
    "scrolled": false
   },
   "outputs": [
    {
     "data": {
      "image/png": "[encoded data removed]",
      "text/plain": [
       "<Figure size 1080x432 with 2 Axes>"
      ]
     },
     "metadata": {},
     "output_type": "display_data"
    }
   ],
   "source": [
    "# Verificando as distribuição dos dados:\n",
    "plt.figure(1 , figsize = (15 , 6))\n",
    "n = 0 \n",
    "for x in ['CODIGO_MUNICIPIO_SIAFI' , 'NIS_FAVORECIDO']:\n",
    "    n += 1\n",
    "    plt.subplot(1 , 2 , n)\n",
    "    plt.subplots_adjust(hspace =0.5 , wspace = 0.5)\n",
    "    sns.distplot(df[x] , bins = 25)\n",
    "    #plt.title('{} '.format(x))\n",
    "    plt.title(f'{x}')\n",
    "plt.show()"
   ]
  },
  {
   "cell_type": "code",
   "execution_count": 95,
   "metadata": {
    "scrolled": true
   },
   "outputs": [
    {
     "data": {
      "image/png": "[encoded data removed]",
      "text/plain": [
       "<Figure size 1080x576 with 1 Axes>"
      ]
     },
     "metadata": {},
     "output_type": "display_data"
    }
   ],
   "source": [
    "# Contagem de Amostras por Cidade:\n",
    "plt.figure(1 , figsize = (15 , 8))\n",
    "sns.countplot(y = 'CODIGO_MUNICIPIO_SIAFI' , data = df)\n",
    "plt.show()"
   ]
  },
  {
   "cell_type": "code",
   "execution_count": 107,
   "metadata": {
    "scrolled": false
   },
   "outputs": [
    {
     "data": {
      "image/png": "[encoded data removed]",
      "text/plain": [
       "<Figure size 1080x576 with 1 Axes>"
      ]
     },
     "metadata": {},
     "output_type": "display_data"
    }
   ],
   "source": [
    "# Contagem de Amostras por Estado:\n",
    "plt.figure(1 , figsize = (15 , 8))\n",
    "sns.countplot(y = 'UF' , data = df)\n",
    "plt.title('Beneficiários por estado - Janeiro de 2014', y = 1.08)\n",
    "plt.show()"
   ]
  },
  {
   "cell_type": "markdown",
   "metadata": {},
   "source": [
    "### Agrupando por estado (UF)"
   ]
  },
  {
   "cell_type": "code",
   "execution_count": 58,
   "metadata": {
    "scrolled": true
   },
   "outputs": [
    {
     "data": {
      "text/html": [
       "<div>\n",
       "<style scoped>\n",
       "    .dataframe tbody tr th:only-of-type {\n",
       "        vertical-align: middle;\n",
       "    }\n",
       "\n",
       "    .dataframe tbody tr th {\n",
       "        vertical-align: top;\n",
       "    }\n",
       "\n",
       "    .dataframe thead th {\n",
       "        text-align: right;\n",
       "    }\n",
       "</style>\n",
       "<table border=\"1\" class=\"dataframe\">\n",
       "  <thead>\n",
       "    <tr style=\"text-align: right;\">\n",
       "      <th></th>\n",
       "      <th>UF</th>\n",
       "      <th>CODIGO_MUNICIPIO_SIAFI</th>\n",
       "      <th>NOME_MUNICIPIO</th>\n",
       "      <th>NIS_FAVORECIDO</th>\n",
       "    </tr>\n",
       "  </thead>\n",
       "  <tbody>\n",
       "    <tr>\n",
       "      <th>0</th>\n",
       "      <td>DF</td>\n",
       "      <td>9701</td>\n",
       "      <td>BRASILIA</td>\n",
       "      <td>16207627750</td>\n",
       "    </tr>\n",
       "    <tr>\n",
       "      <th>94648</th>\n",
       "      <td>GO</td>\n",
       "      <td>9771</td>\n",
       "      <td>AGUA FRIA DE GOIAS</td>\n",
       "      <td>16693776044</td>\n",
       "    </tr>\n",
       "    <tr>\n",
       "      <th>94672</th>\n",
       "      <td>MG</td>\n",
       "      <td>4185</td>\n",
       "      <td>BURITIS</td>\n",
       "      <td>12980139272</td>\n",
       "    </tr>\n",
       "  </tbody>\n",
       "</table>\n",
       "</div>"
      ],
      "text/plain": [
       "       UF CODIGO_MUNICIPIO_SIAFI      NOME_MUNICIPIO NIS_FAVORECIDO\n",
       "0      DF                   9701            BRASILIA    16207627750\n",
       "94648  GO                   9771  AGUA FRIA DE GOIAS    16693776044\n",
       "94672  MG                   4185             BURITIS    12980139272"
      ]
     },
     "execution_count": 58,
     "metadata": {},
     "output_type": "execute_result"
    }
   ],
   "source": [
    "group = df.groupby(['UF'])\n",
    "group.head(1)"
   ]
  },
  {
   "cell_type": "code",
   "execution_count": 59,
   "metadata": {
    "scrolled": true
   },
   "outputs": [
    {
     "data": {
      "text/html": [
       "<div>\n",
       "<style scoped>\n",
       "    .dataframe tbody tr th:only-of-type {\n",
       "        vertical-align: middle;\n",
       "    }\n",
       "\n",
       "    .dataframe tbody tr th {\n",
       "        vertical-align: top;\n",
       "    }\n",
       "\n",
       "    .dataframe thead th {\n",
       "        text-align: right;\n",
       "    }\n",
       "</style>\n",
       "<table border=\"1\" class=\"dataframe\">\n",
       "  <thead>\n",
       "    <tr style=\"text-align: right;\">\n",
       "      <th></th>\n",
       "      <th>UF</th>\n",
       "      <th>CODIGO_MUNICIPIO_SIAFI</th>\n",
       "      <th>NOME_MUNICIPIO</th>\n",
       "      <th>NIS_FAVORECIDO</th>\n",
       "    </tr>\n",
       "  </thead>\n",
       "  <tbody>\n",
       "    <tr>\n",
       "      <th>0</th>\n",
       "      <td>DF</td>\n",
       "      <td>9701</td>\n",
       "      <td>BRASILIA</td>\n",
       "      <td>16207627750</td>\n",
       "    </tr>\n",
       "    <tr>\n",
       "      <th>94648</th>\n",
       "      <td>GO</td>\n",
       "      <td>9771</td>\n",
       "      <td>AGUA FRIA DE GOIAS</td>\n",
       "      <td>16693776044</td>\n",
       "    </tr>\n",
       "    <tr>\n",
       "      <th>94649</th>\n",
       "      <td>GO</td>\n",
       "      <td>1052</td>\n",
       "      <td>AGUAS LINDAS DE GOIAS</td>\n",
       "      <td>16266258472</td>\n",
       "    </tr>\n",
       "    <tr>\n",
       "      <th>94652</th>\n",
       "      <td>GO</td>\n",
       "      <td>9215</td>\n",
       "      <td>ALVORADA DO NORTE</td>\n",
       "      <td>16398227868</td>\n",
       "    </tr>\n",
       "    <tr>\n",
       "      <th>94653</th>\n",
       "      <td>GO</td>\n",
       "      <td>9263</td>\n",
       "      <td>BARRO ALTO</td>\n",
       "      <td>16541509728</td>\n",
       "    </tr>\n",
       "    <tr>\n",
       "      <th>94654</th>\n",
       "      <td>GO</td>\n",
       "      <td>9317</td>\n",
       "      <td>CORUMBA DE GOIAS</td>\n",
       "      <td>16675265572</td>\n",
       "    </tr>\n",
       "    <tr>\n",
       "      <th>94655</th>\n",
       "      <td>GO</td>\n",
       "      <td>9325</td>\n",
       "      <td>CRISTALINA</td>\n",
       "      <td>16310291492</td>\n",
       "    </tr>\n",
       "    <tr>\n",
       "      <th>94658</th>\n",
       "      <td>GO</td>\n",
       "      <td>9361</td>\n",
       "      <td>FORMOSA</td>\n",
       "      <td>16611246267</td>\n",
       "    </tr>\n",
       "    <tr>\n",
       "      <th>94659</th>\n",
       "      <td>GO</td>\n",
       "      <td>9445</td>\n",
       "      <td>LUZIANIA</td>\n",
       "      <td>12980149561</td>\n",
       "    </tr>\n",
       "    <tr>\n",
       "      <th>94660</th>\n",
       "      <td>GO</td>\n",
       "      <td>9489</td>\n",
       "      <td>NIQUELANDIA</td>\n",
       "      <td>21203117231</td>\n",
       "    </tr>\n",
       "    <tr>\n",
       "      <th>94663</th>\n",
       "      <td>GO</td>\n",
       "      <td>1058</td>\n",
       "      <td>NOVO GAMA</td>\n",
       "      <td>16155664502</td>\n",
       "    </tr>\n",
       "    <tr>\n",
       "      <th>94665</th>\n",
       "      <td>GO</td>\n",
       "      <td>9595</td>\n",
       "      <td>PLANALTINA</td>\n",
       "      <td>21222661707</td>\n",
       "    </tr>\n",
       "    <tr>\n",
       "      <th>94668</th>\n",
       "      <td>GO</td>\n",
       "      <td>9677</td>\n",
       "      <td>SANTO ANTONIO DO DESCOBERTO</td>\n",
       "      <td>16407962480</td>\n",
       "    </tr>\n",
       "    <tr>\n",
       "      <th>94671</th>\n",
       "      <td>GO</td>\n",
       "      <td>1066</td>\n",
       "      <td>VALPARAISO DE GOIAS</td>\n",
       "      <td>12022038020</td>\n",
       "    </tr>\n",
       "    <tr>\n",
       "      <th>94672</th>\n",
       "      <td>MG</td>\n",
       "      <td>4185</td>\n",
       "      <td>BURITIS</td>\n",
       "      <td>12980139272</td>\n",
       "    </tr>\n",
       "    <tr>\n",
       "      <th>94673</th>\n",
       "      <td>MG</td>\n",
       "      <td>5407</td>\n",
       "      <td>UNAI</td>\n",
       "      <td>16670170263</td>\n",
       "    </tr>\n",
       "    <tr>\n",
       "      <th>94680</th>\n",
       "      <td>GO</td>\n",
       "      <td>9205</td>\n",
       "      <td>ALEXANIA</td>\n",
       "      <td>21205807162</td>\n",
       "    </tr>\n",
       "    <tr>\n",
       "      <th>94682</th>\n",
       "      <td>GO</td>\n",
       "      <td>9211</td>\n",
       "      <td>ALTO PARAISO DE GOIAS</td>\n",
       "      <td>16132928597</td>\n",
       "    </tr>\n",
       "    <tr>\n",
       "      <th>94685</th>\n",
       "      <td>GO</td>\n",
       "      <td>77</td>\n",
       "      <td>CIDADE OCIDENTAL</td>\n",
       "      <td>16483682183</td>\n",
       "    </tr>\n",
       "    <tr>\n",
       "      <th>94686</th>\n",
       "      <td>GO</td>\n",
       "      <td>55</td>\n",
       "      <td>COCALZINHO DE GOIAS</td>\n",
       "      <td>12152443332</td>\n",
       "    </tr>\n",
       "    <tr>\n",
       "      <th>94718</th>\n",
       "      <td>GO</td>\n",
       "      <td>9509</td>\n",
       "      <td>PADRE BERNARDO</td>\n",
       "      <td>20171490406</td>\n",
       "    </tr>\n",
       "    <tr>\n",
       "      <th>94719</th>\n",
       "      <td>GO</td>\n",
       "      <td>9543</td>\n",
       "      <td>PIRENOPOLIS</td>\n",
       "      <td>20365038541</td>\n",
       "    </tr>\n",
       "    <tr>\n",
       "      <th>94731</th>\n",
       "      <td>GO</td>\n",
       "      <td>9645</td>\n",
       "      <td>ACREUNA</td>\n",
       "      <td>20384338954</td>\n",
       "    </tr>\n",
       "    <tr>\n",
       "      <th>94773</th>\n",
       "      <td>GO</td>\n",
       "      <td>9371</td>\n",
       "      <td>GOIANESIA</td>\n",
       "      <td>13844977316</td>\n",
       "    </tr>\n",
       "    <tr>\n",
       "      <th>94828</th>\n",
       "      <td>GO</td>\n",
       "      <td>1068</td>\n",
       "      <td>VILA PROPICIO</td>\n",
       "      <td>10737465716</td>\n",
       "    </tr>\n",
       "    <tr>\n",
       "      <th>94831</th>\n",
       "      <td>MG</td>\n",
       "      <td>578</td>\n",
       "      <td>CABECEIRA GRANDE</td>\n",
       "      <td>16680820341</td>\n",
       "    </tr>\n",
       "    <tr>\n",
       "      <th>94882</th>\n",
       "      <td>GO</td>\n",
       "      <td>9305</td>\n",
       "      <td>CAVALCANTE</td>\n",
       "      <td>16197986877</td>\n",
       "    </tr>\n",
       "    <tr>\n",
       "      <th>94914</th>\n",
       "      <td>GO</td>\n",
       "      <td>9359</td>\n",
       "      <td>FLORES DE GOIAS</td>\n",
       "      <td>16266249058</td>\n",
       "    </tr>\n",
       "    <tr>\n",
       "      <th>94959</th>\n",
       "      <td>GO</td>\n",
       "      <td>9931</td>\n",
       "      <td>MIMOSO DE GOIAS</td>\n",
       "      <td>22821381130</td>\n",
       "    </tr>\n",
       "    <tr>\n",
       "      <th>95027</th>\n",
       "      <td>GO</td>\n",
       "      <td>9597</td>\n",
       "      <td>SAO JOAO D'ALIANCA</td>\n",
       "      <td>16354886122</td>\n",
       "    </tr>\n",
       "    <tr>\n",
       "      <th>95040</th>\n",
       "      <td>MG</td>\n",
       "      <td>4089</td>\n",
       "      <td>ARINOS</td>\n",
       "      <td>19024770222</td>\n",
       "    </tr>\n",
       "    <tr>\n",
       "      <th>95437</th>\n",
       "      <td>GO</td>\n",
       "      <td>9755</td>\n",
       "      <td>SIMOLANDIA</td>\n",
       "      <td>20722374040</td>\n",
       "    </tr>\n",
       "    <tr>\n",
       "      <th>95461</th>\n",
       "      <td>GO</td>\n",
       "      <td>67</td>\n",
       "      <td>VILA BOA</td>\n",
       "      <td>19001388682</td>\n",
       "    </tr>\n",
       "    <tr>\n",
       "      <th>116383</th>\n",
       "      <td>GO</td>\n",
       "      <td>9279</td>\n",
       "      <td>CABECEIRAS</td>\n",
       "      <td>20128144674</td>\n",
       "    </tr>\n",
       "  </tbody>\n",
       "</table>\n",
       "</div>"
      ],
      "text/plain": [
       "        UF CODIGO_MUNICIPIO_SIAFI               NOME_MUNICIPIO NIS_FAVORECIDO\n",
       "0       DF                   9701                     BRASILIA    16207627750\n",
       "94648   GO                   9771           AGUA FRIA DE GOIAS    16693776044\n",
       "94649   GO                   1052        AGUAS LINDAS DE GOIAS    16266258472\n",
       "94652   GO                   9215            ALVORADA DO NORTE    16398227868\n",
       "94653   GO                   9263                   BARRO ALTO    16541509728\n",
       "94654   GO                   9317             CORUMBA DE GOIAS    16675265572\n",
       "94655   GO                   9325                   CRISTALINA    16310291492\n",
       "94658   GO                   9361                      FORMOSA    16611246267\n",
       "94659   GO                   9445                     LUZIANIA    12980149561\n",
       "94660   GO                   9489                  NIQUELANDIA    21203117231\n",
       "94663   GO                   1058                    NOVO GAMA    16155664502\n",
       "94665   GO                   9595                   PLANALTINA    21222661707\n",
       "94668   GO                   9677  SANTO ANTONIO DO DESCOBERTO    16407962480\n",
       "94671   GO                   1066          VALPARAISO DE GOIAS    12022038020\n",
       "94672   MG                   4185                      BURITIS    12980139272\n",
       "94673   MG                   5407                         UNAI    16670170263\n",
       "94680   GO                   9205                     ALEXANIA    21205807162\n",
       "94682   GO                   9211        ALTO PARAISO DE GOIAS    16132928597\n",
       "94685   GO                     77             CIDADE OCIDENTAL    16483682183\n",
       "94686   GO                     55          COCALZINHO DE GOIAS    12152443332\n",
       "94718   GO                   9509               PADRE BERNARDO    20171490406\n",
       "94719   GO                   9543                  PIRENOPOLIS    20365038541\n",
       "94731   GO                   9645                      ACREUNA    20384338954\n",
       "94773   GO                   9371                    GOIANESIA    13844977316\n",
       "94828   GO                   1068                VILA PROPICIO    10737465716\n",
       "94831   MG                    578             CABECEIRA GRANDE    16680820341\n",
       "94882   GO                   9305                   CAVALCANTE    16197986877\n",
       "94914   GO                   9359              FLORES DE GOIAS    16266249058\n",
       "94959   GO                   9931              MIMOSO DE GOIAS    22821381130\n",
       "95027   GO                   9597           SAO JOAO D'ALIANCA    16354886122\n",
       "95040   MG                   4089                       ARINOS    19024770222\n",
       "95437   GO                   9755                   SIMOLANDIA    20722374040\n",
       "95461   GO                     67                     VILA BOA    19001388682\n",
       "116383  GO                   9279                   CABECEIRAS    20128144674"
      ]
     },
     "execution_count": 59,
     "metadata": {},
     "output_type": "execute_result"
    }
   ],
   "source": [
    "group2 = df.groupby(['CODIGO_MUNICIPIO_SIAFI'])\n",
    "group2.head(1)"
   ]
  },
  {
   "cell_type": "markdown",
   "metadata": {},
   "source": [
    "## Modelo K-means para clusterização"
   ]
  },
  {
   "cell_type": "code",
   "execution_count": null,
   "metadata": {},
   "outputs": [],
   "source": [
    "# Selecionando o número de clusters através do método Elbow (Soma das distâncias quadráticas intra clusters):\n",
    "X2 = df[['CODIGO_MUNICIPIO_SIAFI' , 'Spending Score (1-100)']].iloc[: , :].values\n",
    "inertia = []\n",
    "for n in range(1 , 11):\n",
    "    algorithm = (KMeans(n_clusters = n))\n",
    "    algorithm.fit(X2)\n",
    "    inertia.append(algorithm.inertia_)"
   ]
  },
  {
   "cell_type": "code",
   "execution_count": null,
   "metadata": {},
   "outputs": [],
   "source": []
  },
  {
   "cell_type": "code",
   "execution_count": null,
   "metadata": {},
   "outputs": [],
   "source": []
  },
  {
   "cell_type": "code",
   "execution_count": null,
   "metadata": {},
   "outputs": [],
   "source": []
  },
  {
   "cell_type": "code",
   "execution_count": null,
   "metadata": {},
   "outputs": [],
   "source": []
  }
 ],
 "metadata": {
  "kernelspec": {
   "display_name": "Python 3",
   "language": "python",
   "name": "python3"
  },
  "language_info": {
   "codemirror_mode": {
    "name": "ipython",
    "version": 3
   },
   "file_extension": ".py",
   "mimetype": "text/x-python",
   "name": "python",
   "nbconvert_exporter": "python",
   "pygments_lexer": "ipython3",
   "version": "3.7.6"
  }
 },
 "nbformat": 4,
 "nbformat_minor": 4
}
