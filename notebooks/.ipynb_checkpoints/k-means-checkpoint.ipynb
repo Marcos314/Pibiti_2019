{
 "cells": [
  {
   "cell_type": "markdown",
   "metadata": {},
   "source": [
    "# Entendendo K-means"
   ]
  },
  {
   "cell_type": "markdown",
   "metadata": {},
   "source": [
    "### 17/04/2020\n",
    "\n",
    "### Paulo Eduardo Sampaio"
   ]
  },
  {
   "cell_type": "code",
   "execution_count": 2,
   "metadata": {},
   "outputs": [],
   "source": [
    "import numpy as np\n",
    "import pandas as pd\n",
    "import matplotlib.pyplot as plt\n",
    "from sklearn.preprocessing import scale\n",
    "from sklearn.cluster import KMeans\n",
    "import seaborn\n",
    "\n",
    "seaborn.set()\n",
    "%matplotlib inline\n",
    "plt.rcParams['figure.figsize'] = (10, 12)\n",
    "plt.style.use('ggplot')\n",
    "\n",
    "data = pd.read_csv(\"./dataset_analysis/dataframe.csv\")\n"
   ]
  },
  {
   "cell_type": "code",
   "execution_count": 3,
   "metadata": {},
   "outputs": [
    {
     "data": {
      "text/plain": [
       "(203340, 6)"
      ]
     },
     "execution_count": 3,
     "metadata": {},
     "output_type": "execute_result"
    }
   ],
   "source": [
    "data.shape"
   ]
  },
  {
   "cell_type": "code",
   "execution_count": 4,
   "metadata": {},
   "outputs": [
    {
     "data": {
      "text/html": [
       "<div>\n",
       "<style scoped>\n",
       "    .dataframe tbody tr th:only-of-type {\n",
       "        vertical-align: middle;\n",
       "    }\n",
       "\n",
       "    .dataframe tbody tr th {\n",
       "        vertical-align: top;\n",
       "    }\n",
       "\n",
       "    .dataframe thead th {\n",
       "        text-align: right;\n",
       "    }\n",
       "</style>\n",
       "<table border=\"1\" class=\"dataframe\">\n",
       "  <thead>\n",
       "    <tr style=\"text-align: right;\">\n",
       "      <th></th>\n",
       "      <th>Unnamed: 0</th>\n",
       "      <th>MES_COMPETENCIA</th>\n",
       "      <th>UF</th>\n",
       "      <th>CODIGO_MUNICIPIO_SIAFI</th>\n",
       "      <th>NIS_FAVORECIDO</th>\n",
       "      <th>NIS</th>\n",
       "    </tr>\n",
       "  </thead>\n",
       "  <tbody>\n",
       "    <tr>\n",
       "      <th>0</th>\n",
       "      <td>0</td>\n",
       "      <td>201202</td>\n",
       "      <td>DF</td>\n",
       "      <td>9701</td>\n",
       "      <td>16686120759</td>\n",
       "      <td>1.668612</td>\n",
       "    </tr>\n",
       "    <tr>\n",
       "      <th>1</th>\n",
       "      <td>1</td>\n",
       "      <td>201203</td>\n",
       "      <td>DF</td>\n",
       "      <td>9701</td>\n",
       "      <td>16686120759</td>\n",
       "      <td>1.668612</td>\n",
       "    </tr>\n",
       "    <tr>\n",
       "      <th>2</th>\n",
       "      <td>2</td>\n",
       "      <td>201204</td>\n",
       "      <td>DF</td>\n",
       "      <td>9701</td>\n",
       "      <td>16686120759</td>\n",
       "      <td>1.668612</td>\n",
       "    </tr>\n",
       "    <tr>\n",
       "      <th>3</th>\n",
       "      <td>3</td>\n",
       "      <td>201205</td>\n",
       "      <td>DF</td>\n",
       "      <td>9701</td>\n",
       "      <td>16686120759</td>\n",
       "      <td>1.668612</td>\n",
       "    </tr>\n",
       "    <tr>\n",
       "      <th>4</th>\n",
       "      <td>4</td>\n",
       "      <td>201206</td>\n",
       "      <td>DF</td>\n",
       "      <td>9701</td>\n",
       "      <td>21259030271</td>\n",
       "      <td>2.125903</td>\n",
       "    </tr>\n",
       "  </tbody>\n",
       "</table>\n",
       "</div>"
      ],
      "text/plain": [
       "   Unnamed: 0  MES_COMPETENCIA  UF  CODIGO_MUNICIPIO_SIAFI  NIS_FAVORECIDO  \\\n",
       "0           0           201202  DF                    9701     16686120759   \n",
       "1           1           201203  DF                    9701     16686120759   \n",
       "2           2           201204  DF                    9701     16686120759   \n",
       "3           3           201205  DF                    9701     16686120759   \n",
       "4           4           201206  DF                    9701     21259030271   \n",
       "\n",
       "        NIS  \n",
       "0  1.668612  \n",
       "1  1.668612  \n",
       "2  1.668612  \n",
       "3  1.668612  \n",
       "4  2.125903  "
      ]
     },
     "execution_count": 4,
     "metadata": {},
     "output_type": "execute_result"
    }
   ],
   "source": [
    "data.head()"
   ]
  },
  {
   "cell_type": "code",
   "execution_count": 5,
   "metadata": {},
   "outputs": [
    {
     "data": {
      "text/html": [
       "<div>\n",
       "<style scoped>\n",
       "    .dataframe tbody tr th:only-of-type {\n",
       "        vertical-align: middle;\n",
       "    }\n",
       "\n",
       "    .dataframe tbody tr th {\n",
       "        vertical-align: top;\n",
       "    }\n",
       "\n",
       "    .dataframe thead th {\n",
       "        text-align: right;\n",
       "    }\n",
       "</style>\n",
       "<table border=\"1\" class=\"dataframe\">\n",
       "  <thead>\n",
       "    <tr style=\"text-align: right;\">\n",
       "      <th></th>\n",
       "      <th>Unnamed: 0</th>\n",
       "      <th>MES_COMPETENCIA</th>\n",
       "      <th>CODIGO_MUNICIPIO_SIAFI</th>\n",
       "      <th>NIS_FAVORECIDO</th>\n",
       "      <th>NIS</th>\n",
       "    </tr>\n",
       "  </thead>\n",
       "  <tbody>\n",
       "    <tr>\n",
       "      <th>count</th>\n",
       "      <td>203340.000000</td>\n",
       "      <td>203340.000000</td>\n",
       "      <td>203340.000000</td>\n",
       "      <td>2.033400e+05</td>\n",
       "      <td>203340.000000</td>\n",
       "    </tr>\n",
       "    <tr>\n",
       "      <th>mean</th>\n",
       "      <td>101669.500000</td>\n",
       "      <td>201300.751972</td>\n",
       "      <td>7827.271604</td>\n",
       "      <td>1.643527e+10</td>\n",
       "      <td>1.643527</td>\n",
       "    </tr>\n",
       "    <tr>\n",
       "      <th>std</th>\n",
       "      <td>58699.346206</td>\n",
       "      <td>4.737588</td>\n",
       "      <td>3410.289828</td>\n",
       "      <td>2.995204e+09</td>\n",
       "      <td>0.299520</td>\n",
       "    </tr>\n",
       "    <tr>\n",
       "      <th>min</th>\n",
       "      <td>0.000000</td>\n",
       "      <td>201202.000000</td>\n",
       "      <td>55.000000</td>\n",
       "      <td>1.001066e+10</td>\n",
       "      <td>1.001066</td>\n",
       "    </tr>\n",
       "    <tr>\n",
       "      <th>25%</th>\n",
       "      <td>50834.750000</td>\n",
       "      <td>201301.000000</td>\n",
       "      <td>9305.000000</td>\n",
       "      <td>1.349491e+10</td>\n",
       "      <td>1.349491</td>\n",
       "    </tr>\n",
       "    <tr>\n",
       "      <th>50%</th>\n",
       "      <td>101669.500000</td>\n",
       "      <td>201301.000000</td>\n",
       "      <td>9677.000000</td>\n",
       "      <td>1.638268e+10</td>\n",
       "      <td>1.638268</td>\n",
       "    </tr>\n",
       "    <tr>\n",
       "      <th>75%</th>\n",
       "      <td>152504.250000</td>\n",
       "      <td>201301.000000</td>\n",
       "      <td>9701.000000</td>\n",
       "      <td>1.666796e+10</td>\n",
       "      <td>1.666796</td>\n",
       "    </tr>\n",
       "    <tr>\n",
       "      <th>max</th>\n",
       "      <td>203339.000000</td>\n",
       "      <td>201301.000000</td>\n",
       "      <td>9931.000000</td>\n",
       "      <td>2.361974e+10</td>\n",
       "      <td>2.361974</td>\n",
       "    </tr>\n",
       "  </tbody>\n",
       "</table>\n",
       "</div>"
      ],
      "text/plain": [
       "          Unnamed: 0  MES_COMPETENCIA  CODIGO_MUNICIPIO_SIAFI  NIS_FAVORECIDO  \\\n",
       "count  203340.000000    203340.000000           203340.000000    2.033400e+05   \n",
       "mean   101669.500000    201300.751972             7827.271604    1.643527e+10   \n",
       "std     58699.346206         4.737588             3410.289828    2.995204e+09   \n",
       "min         0.000000    201202.000000               55.000000    1.001066e+10   \n",
       "25%     50834.750000    201301.000000             9305.000000    1.349491e+10   \n",
       "50%    101669.500000    201301.000000             9677.000000    1.638268e+10   \n",
       "75%    152504.250000    201301.000000             9701.000000    1.666796e+10   \n",
       "max    203339.000000    201301.000000             9931.000000    2.361974e+10   \n",
       "\n",
       "                 NIS  \n",
       "count  203340.000000  \n",
       "mean        1.643527  \n",
       "std         0.299520  \n",
       "min         1.001066  \n",
       "25%         1.349491  \n",
       "50%         1.638268  \n",
       "75%         1.666796  \n",
       "max         2.361974  "
      ]
     },
     "execution_count": 5,
     "metadata": {},
     "output_type": "execute_result"
    }
   ],
   "source": [
    "data.describe()"
   ]
  },
  {
   "cell_type": "code",
   "execution_count": 8,
   "metadata": {},
   "outputs": [
    {
     "data": {
      "text/plain": [
       "Text(0.5, 1.0, 'Gastos por cluster')"
      ]
     },
     "execution_count": 8,
     "metadata": {},
     "output_type": "execute_result"
    },
    {
     "data": {
      "image/png": "[encoded data removed]",
      "text/plain": [
       "<Figure size 720x540 with 1 Axes>"
      ]
     },
     "metadata": {},
     "output_type": "display_data"
    }
   ],
   "source": [
    "data_array = data.values\n",
    "kmeans = KMeans(n_clusters=5, init='k-means++', n_init=10, random_state=1234)\n",
    "#k-means++ (ponstos afastados) e n_init=10, execução de 10 execuções do algoritmo\n",
    "data[\"clusters\"] = kmeans.fit_predict(data_array)\n",
    "data.groupby(\"clusters\").aggregate(\"mean\").plot.bar(figsize=(10,7.5))\n",
    "plt.title(\"Gastos por cluster\")"
   ]
  },
  {
   "cell_type": "code",
   "execution_count": 9,
   "metadata": {},
   "outputs": [
    {
     "data": {
      "text/plain": [
       "Text(0, 0.5, 'Inércia total')"
      ]
     },
     "execution_count": 9,
     "metadata": {},
     "output_type": "execute_result"
    },
    {
     "data": {
      "image/png": "[encoded data removed]",
      "text/plain": [
       "<Figure size 720x864 with 1 Axes>"
      ]
     },
     "metadata": {},
     "output_type": "display_data"
    }
   ],
   "source": [
    "inertia = []\n",
    "for i in range(1,11):\n",
    "    kmeans = KMeans(n_clusters=i, random_state=1234)\n",
    "    kmeans.fit(data.values)\n",
    "    inertia.append((i,kmeans.inertia_,))\n",
    "#plt.figure(figsize=(10,10))\n",
    "plt.plot([w[0] for w in inertia],[w[1] for w in inertia], marker=\"X\")\n",
    "plt.xticks([w[0] for w in inertia])\n",
    "plt.xlabel(\"Numero de clusters\")\n",
    "plt.ylabel(\"Inércia total\")"
   ]
  },
  {
   "cell_type": "code",
   "execution_count": null,
   "metadata": {},
   "outputs": [],
   "source": []
  }
 ],
 "metadata": {
  "kernelspec": {
   "display_name": "Python 3",
   "language": "python",
   "name": "python3"
  },
  "language_info": {
   "codemirror_mode": {
    "name": "ipython",
    "version": 3
   },
   "file_extension": ".py",
   "mimetype": "text/x-python",
   "name": "python",
   "nbconvert_exporter": "python",
   "pygments_lexer": "ipython3",
   "version": "3.7.6"
  },
  "widgets": {
   "application/vnd.jupyter.widget-state+json": {
    "state": {},
    "version_major": 2,
    "version_minor": 0
   }
  }
 },
 "nbformat": 4,
 "nbformat_minor": 4
}
