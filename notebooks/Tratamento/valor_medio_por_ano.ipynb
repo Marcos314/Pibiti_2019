{
  "nbformat": 4,
  "nbformat_minor": 0,
  "metadata": {
    "colab": {
      "name": "valor_medio_por_ano",
      "provenance": [],
      "collapsed_sections": []
    },
    "kernelspec": {
      "name": "python3",
      "display_name": "Python 3"
    }
  },
  "cells": [
    {
      "cell_type": "markdown",
      "metadata": {
        "id": "mtSNL5T5O6zf",
        "colab_type": "text"
      },
      "source": [
        "# CRIAÇÃO DE DATAFRAME COM VALORES MÉDIOS RECEBIDOS POR CADA CIDADE POR ANO"
      ]
    },
    {
      "cell_type": "code",
      "metadata": {
        "id": "sDNCI5Ah2q4h",
        "colab_type": "code",
        "colab": {}
      },
      "source": [
        "!pip install seaborn"
      ],
      "execution_count": null,
      "outputs": []
    },
    {
      "cell_type": "code",
      "metadata": {
        "id": "2OjlsM5NGmSi",
        "colab_type": "code",
        "colab": {
          "base_uri": "https://localhost:8080/",
          "height": 71
        },
        "outputId": "1a380e43-d000-418c-cc7a-67579d82fb1c"
      },
      "source": [
        "import pandas as pd\n",
        "import numpy as np\n",
        "import matplotlib.pyplot as plt\n",
        "pd.set_option(\"display.max_rows\", 3000)\n",
        "import seaborn as sns\n",
        "%matplotlib inline"
      ],
      "execution_count": null,
      "outputs": [
        {
          "output_type": "stream",
          "text": [
            "/usr/local/lib/python3.6/dist-packages/statsmodels/tools/_testing.py:19: FutureWarning: pandas.util.testing is deprecated. Use the functions in the public API at pandas.testing instead.\n",
            "  import pandas.util.testing as tm\n"
          ],
          "name": "stderr"
        }
      ]
    },
    {
      "cell_type": "code",
      "metadata": {
        "id": "KhhJkPoXPHqe",
        "colab_type": "code",
        "colab": {
          "base_uri": "https://localhost:8080/",
          "height": 309
        },
        "outputId": "e3be1423-503e-4ec8-b405-d3183c212fd2"
      },
      "source": [
        "df = pd.read_csv('/content/drive/My Drive/PIBITI - 2019/DadosTratamento/datasetCompleto2.csv')\n",
        "df = df.drop(columns=['Unnamed: 0','LAT','LON'])\n",
        "df.head()"
      ],
      "execution_count": null,
      "outputs": [
        {
          "output_type": "execute_result",
          "data": {
            "text/html": [
              "<div>\n",
              "<style scoped>\n",
              "    .dataframe tbody tr th:only-of-type {\n",
              "        vertical-align: middle;\n",
              "    }\n",
              "\n",
              "    .dataframe tbody tr th {\n",
              "        vertical-align: top;\n",
              "    }\n",
              "\n",
              "    .dataframe thead th {\n",
              "        text-align: right;\n",
              "    }\n",
              "</style>\n",
              "<table border=\"1\" class=\"dataframe\">\n",
              "  <thead>\n",
              "    <tr style=\"text-align: right;\">\n",
              "      <th></th>\n",
              "      <th>MES_REFERENCIA</th>\n",
              "      <th>MES_COMPETENCIA</th>\n",
              "      <th>UF</th>\n",
              "      <th>CODIGO_MUNICIPIO_SIAFI</th>\n",
              "      <th>NOME_MUNICIPIO</th>\n",
              "      <th>NIS_FAVORECIDO</th>\n",
              "      <th>NOME_FAVORECIDO</th>\n",
              "      <th>VALOR_PARCELA</th>\n",
              "    </tr>\n",
              "  </thead>\n",
              "  <tbody>\n",
              "    <tr>\n",
              "      <th>0</th>\n",
              "      <td>201301</td>\n",
              "      <td>201202</td>\n",
              "      <td>DF</td>\n",
              "      <td>9701</td>\n",
              "      <td>BRASILIA</td>\n",
              "      <td>1.668612e+10</td>\n",
              "      <td>VALNI ESTEVES DE AZEVEDO</td>\n",
              "      <td>102.0</td>\n",
              "    </tr>\n",
              "    <tr>\n",
              "      <th>1</th>\n",
              "      <td>201301</td>\n",
              "      <td>201203</td>\n",
              "      <td>DF</td>\n",
              "      <td>9701</td>\n",
              "      <td>BRASILIA</td>\n",
              "      <td>1.668612e+10</td>\n",
              "      <td>VALNI ESTEVES DE AZEVEDO</td>\n",
              "      <td>102.0</td>\n",
              "    </tr>\n",
              "    <tr>\n",
              "      <th>2</th>\n",
              "      <td>201301</td>\n",
              "      <td>201204</td>\n",
              "      <td>DF</td>\n",
              "      <td>9701</td>\n",
              "      <td>BRASILIA</td>\n",
              "      <td>1.668612e+10</td>\n",
              "      <td>VALNI ESTEVES DE AZEVEDO</td>\n",
              "      <td>102.0</td>\n",
              "    </tr>\n",
              "    <tr>\n",
              "      <th>3</th>\n",
              "      <td>201301</td>\n",
              "      <td>201205</td>\n",
              "      <td>DF</td>\n",
              "      <td>9701</td>\n",
              "      <td>BRASILIA</td>\n",
              "      <td>1.668612e+10</td>\n",
              "      <td>VALNI ESTEVES DE AZEVEDO</td>\n",
              "      <td>102.0</td>\n",
              "    </tr>\n",
              "    <tr>\n",
              "      <th>4</th>\n",
              "      <td>201301</td>\n",
              "      <td>201206</td>\n",
              "      <td>DF</td>\n",
              "      <td>9701</td>\n",
              "      <td>BRASILIA</td>\n",
              "      <td>2.125903e+10</td>\n",
              "      <td>ANA PAULA PEREIRA DA SILVA</td>\n",
              "      <td>64.0</td>\n",
              "    </tr>\n",
              "  </tbody>\n",
              "</table>\n",
              "</div>"
            ],
            "text/plain": [
              "   MES_REFERENCIA  MES_COMPETENCIA  ...             NOME_FAVORECIDO  VALOR_PARCELA\n",
              "0          201301           201202  ...    VALNI ESTEVES DE AZEVEDO          102.0\n",
              "1          201301           201203  ...    VALNI ESTEVES DE AZEVEDO          102.0\n",
              "2          201301           201204  ...    VALNI ESTEVES DE AZEVEDO          102.0\n",
              "3          201301           201205  ...    VALNI ESTEVES DE AZEVEDO          102.0\n",
              "4          201301           201206  ...  ANA PAULA PEREIRA DA SILVA           64.0\n",
              "\n",
              "[5 rows x 8 columns]"
            ]
          },
          "metadata": {
            "tags": []
          },
          "execution_count": 2
        }
      ]
    },
    {
      "cell_type": "code",
      "metadata": {
        "id": "AkcxSKNeP_Px",
        "colab_type": "code",
        "colab": {
          "base_uri": "https://localhost:8080/",
          "height": 204
        },
        "outputId": "0c377dd2-6730-4fe6-f503-8676b2fa7fd0"
      },
      "source": [
        "# Remoção de algumas colunas que não será necessário para esta análise\n",
        "df = df.drop(columns=['MES_COMPETENCIA','CODIGO_MUNICIPIO_SIAFI','NIS_FAVORECIDO','NOME_FAVORECIDO'])\n",
        "df.head()"
      ],
      "execution_count": null,
      "outputs": [
        {
          "output_type": "execute_result",
          "data": {
            "text/html": [
              "<div>\n",
              "<style scoped>\n",
              "    .dataframe tbody tr th:only-of-type {\n",
              "        vertical-align: middle;\n",
              "    }\n",
              "\n",
              "    .dataframe tbody tr th {\n",
              "        vertical-align: top;\n",
              "    }\n",
              "\n",
              "    .dataframe thead th {\n",
              "        text-align: right;\n",
              "    }\n",
              "</style>\n",
              "<table border=\"1\" class=\"dataframe\">\n",
              "  <thead>\n",
              "    <tr style=\"text-align: right;\">\n",
              "      <th></th>\n",
              "      <th>MES_REFERENCIA</th>\n",
              "      <th>UF</th>\n",
              "      <th>NOME_MUNICIPIO</th>\n",
              "      <th>VALOR_PARCELA</th>\n",
              "    </tr>\n",
              "  </thead>\n",
              "  <tbody>\n",
              "    <tr>\n",
              "      <th>0</th>\n",
              "      <td>201301</td>\n",
              "      <td>DF</td>\n",
              "      <td>BRASILIA</td>\n",
              "      <td>102.0</td>\n",
              "    </tr>\n",
              "    <tr>\n",
              "      <th>1</th>\n",
              "      <td>201301</td>\n",
              "      <td>DF</td>\n",
              "      <td>BRASILIA</td>\n",
              "      <td>102.0</td>\n",
              "    </tr>\n",
              "    <tr>\n",
              "      <th>2</th>\n",
              "      <td>201301</td>\n",
              "      <td>DF</td>\n",
              "      <td>BRASILIA</td>\n",
              "      <td>102.0</td>\n",
              "    </tr>\n",
              "    <tr>\n",
              "      <th>3</th>\n",
              "      <td>201301</td>\n",
              "      <td>DF</td>\n",
              "      <td>BRASILIA</td>\n",
              "      <td>102.0</td>\n",
              "    </tr>\n",
              "    <tr>\n",
              "      <th>4</th>\n",
              "      <td>201301</td>\n",
              "      <td>DF</td>\n",
              "      <td>BRASILIA</td>\n",
              "      <td>64.0</td>\n",
              "    </tr>\n",
              "  </tbody>\n",
              "</table>\n",
              "</div>"
            ],
            "text/plain": [
              "   MES_REFERENCIA  UF NOME_MUNICIPIO  VALOR_PARCELA\n",
              "0          201301  DF       BRASILIA          102.0\n",
              "1          201301  DF       BRASILIA          102.0\n",
              "2          201301  DF       BRASILIA          102.0\n",
              "3          201301  DF       BRASILIA          102.0\n",
              "4          201301  DF       BRASILIA           64.0"
            ]
          },
          "metadata": {
            "tags": []
          },
          "execution_count": 9
        }
      ]
    },
    {
      "cell_type": "code",
      "metadata": {
        "id": "MQveOF_ZQx7H",
        "colab_type": "code",
        "colab": {}
      },
      "source": [
        "# Cálculo da média por ano, direto nesse dataframe\n",
        "df['ANO'] = 'NaN'\n",
        "df_2013 = df.loc[df['MES_REFERENCIA'].between(201301, 201312)].replace('NaN', 2013)\n",
        "df_2013 = df.loc[df['MES_REFERENCIA'].between(201301, 201312)].replace('NaN', 2013)\n",
        "df_2014 = df.loc[df['MES_REFERENCIA'].between(201401, 201512)].replace('NaN', 2014)\n",
        "df_2015 = df.loc[df['MES_REFERENCIA'].between(201501, 201512)].replace('NaN', 2015)\n",
        "df_2016 = df.loc[df['MES_REFERENCIA'].between(201601, 201612)].replace('NaN', 2016)\n",
        "df_2017 = df.loc[df['MES_REFERENCIA'].between(201701, 201712)].replace('NaN', 2017)\n",
        "df_2018 = df.loc[df['MES_REFERENCIA'].between(201801, 201812)].replace('NaN', 2018)\n",
        "df_2019 = df.loc[df['MES_REFERENCIA'].between(201901, 201912)].replace('NaN', 2019)"
      ],
      "execution_count": null,
      "outputs": []
    },
    {
      "cell_type": "code",
      "metadata": {
        "id": "H3YR0vbBRRgT",
        "colab_type": "code",
        "colab": {}
      },
      "source": [
        "resultado_teste = pd.concat([df_2013,df_2014,df_2015,df_2016,df_2017,df_2018,df_2019])"
      ],
      "execution_count": null,
      "outputs": []
    },
    {
      "cell_type": "code",
      "metadata": {
        "id": "0kkddT_JRZKq",
        "colab_type": "code",
        "colab": {
          "base_uri": "https://localhost:8080/",
          "height": 204
        },
        "outputId": "8d08a729-9075-4a58-8ec3-aec1e27b8552"
      },
      "source": [
        "del resultado_teste['MES_REFERENCIA']\n",
        "resultado_teste.head()"
      ],
      "execution_count": null,
      "outputs": [
        {
          "output_type": "execute_result",
          "data": {
            "text/html": [
              "<div>\n",
              "<style scoped>\n",
              "    .dataframe tbody tr th:only-of-type {\n",
              "        vertical-align: middle;\n",
              "    }\n",
              "\n",
              "    .dataframe tbody tr th {\n",
              "        vertical-align: top;\n",
              "    }\n",
              "\n",
              "    .dataframe thead th {\n",
              "        text-align: right;\n",
              "    }\n",
              "</style>\n",
              "<table border=\"1\" class=\"dataframe\">\n",
              "  <thead>\n",
              "    <tr style=\"text-align: right;\">\n",
              "      <th></th>\n",
              "      <th>UF</th>\n",
              "      <th>NOME_MUNICIPIO</th>\n",
              "      <th>VALOR_PARCELA</th>\n",
              "      <th>ANO</th>\n",
              "    </tr>\n",
              "  </thead>\n",
              "  <tbody>\n",
              "    <tr>\n",
              "      <th>0</th>\n",
              "      <td>DF</td>\n",
              "      <td>BRASILIA</td>\n",
              "      <td>102.0</td>\n",
              "      <td>2013</td>\n",
              "    </tr>\n",
              "    <tr>\n",
              "      <th>1</th>\n",
              "      <td>DF</td>\n",
              "      <td>BRASILIA</td>\n",
              "      <td>102.0</td>\n",
              "      <td>2013</td>\n",
              "    </tr>\n",
              "    <tr>\n",
              "      <th>2</th>\n",
              "      <td>DF</td>\n",
              "      <td>BRASILIA</td>\n",
              "      <td>102.0</td>\n",
              "      <td>2013</td>\n",
              "    </tr>\n",
              "    <tr>\n",
              "      <th>3</th>\n",
              "      <td>DF</td>\n",
              "      <td>BRASILIA</td>\n",
              "      <td>102.0</td>\n",
              "      <td>2013</td>\n",
              "    </tr>\n",
              "    <tr>\n",
              "      <th>4</th>\n",
              "      <td>DF</td>\n",
              "      <td>BRASILIA</td>\n",
              "      <td>64.0</td>\n",
              "      <td>2013</td>\n",
              "    </tr>\n",
              "  </tbody>\n",
              "</table>\n",
              "</div>"
            ],
            "text/plain": [
              "   UF NOME_MUNICIPIO  VALOR_PARCELA   ANO\n",
              "0  DF       BRASILIA          102.0  2013\n",
              "1  DF       BRASILIA          102.0  2013\n",
              "2  DF       BRASILIA          102.0  2013\n",
              "3  DF       BRASILIA          102.0  2013\n",
              "4  DF       BRASILIA           64.0  2013"
            ]
          },
          "metadata": {
            "tags": []
          },
          "execution_count": 12
        }
      ]
    },
    {
      "cell_type": "code",
      "metadata": {
        "id": "vBPxEXQgXPBb",
        "colab_type": "code",
        "colab": {}
      },
      "source": [
        "media_ano = resultado_teste.groupby(['ANO', 'NOME_MUNICIPIO'])['VALOR_PARCELA'].mean()"
      ],
      "execution_count": null,
      "outputs": []
    },
    {
      "cell_type": "code",
      "metadata": {
        "id": "Nays18KEYTNg",
        "colab_type": "code",
        "colab": {}
      },
      "source": [
        "media_ano.to_csv('media_ano.csv')"
      ],
      "execution_count": null,
      "outputs": []
    },
    {
      "cell_type": "markdown",
      "metadata": {
        "id": "YLBSjWDPlf9m",
        "colab_type": "text"
      },
      "source": [
        "## Visualização da Média por ano - heatmaps"
      ]
    },
    {
      "cell_type": "code",
      "metadata": {
        "id": "kgMWj4welxbk",
        "colab_type": "code",
        "colab": {}
      },
      "source": [
        "media_ano = pd.read_csv('media_ano.csv')"
      ],
      "execution_count": null,
      "outputs": []
    },
    {
      "cell_type": "code",
      "metadata": {
        "id": "vo_HBsdcKoCY",
        "colab_type": "code",
        "colab": {
          "base_uri": "https://localhost:8080/",
          "height": 204
        },
        "outputId": "1ecdb14b-67f8-4a27-b066-1df5b59d1b45"
      },
      "source": [
        "media_ano.head()"
      ],
      "execution_count": null,
      "outputs": [
        {
          "output_type": "execute_result",
          "data": {
            "text/html": [
              "<div>\n",
              "<style scoped>\n",
              "    .dataframe tbody tr th:only-of-type {\n",
              "        vertical-align: middle;\n",
              "    }\n",
              "\n",
              "    .dataframe tbody tr th {\n",
              "        vertical-align: top;\n",
              "    }\n",
              "\n",
              "    .dataframe thead th {\n",
              "        text-align: right;\n",
              "    }\n",
              "</style>\n",
              "<table border=\"1\" class=\"dataframe\">\n",
              "  <thead>\n",
              "    <tr style=\"text-align: right;\">\n",
              "      <th></th>\n",
              "      <th>ANO</th>\n",
              "      <th>NOME_MUNICIPIO</th>\n",
              "      <th>VALOR_PARCELA</th>\n",
              "    </tr>\n",
              "  </thead>\n",
              "  <tbody>\n",
              "    <tr>\n",
              "      <th>0</th>\n",
              "      <td>2013</td>\n",
              "      <td>ACREUNA</td>\n",
              "      <td>148.672540</td>\n",
              "    </tr>\n",
              "    <tr>\n",
              "      <th>1</th>\n",
              "      <td>2013</td>\n",
              "      <td>AGUA FRIA DE GOIAS</td>\n",
              "      <td>138.652268</td>\n",
              "    </tr>\n",
              "    <tr>\n",
              "      <th>2</th>\n",
              "      <td>2013</td>\n",
              "      <td>AGUAS LINDAS DE GOIAS</td>\n",
              "      <td>157.329448</td>\n",
              "    </tr>\n",
              "    <tr>\n",
              "      <th>3</th>\n",
              "      <td>2013</td>\n",
              "      <td>ALEXANIA</td>\n",
              "      <td>146.140308</td>\n",
              "    </tr>\n",
              "    <tr>\n",
              "      <th>4</th>\n",
              "      <td>2013</td>\n",
              "      <td>ALTO PARAISO DE GOIAS</td>\n",
              "      <td>155.457581</td>\n",
              "    </tr>\n",
              "  </tbody>\n",
              "</table>\n",
              "</div>"
            ],
            "text/plain": [
              "    ANO         NOME_MUNICIPIO  VALOR_PARCELA\n",
              "0  2013                ACREUNA     148.672540\n",
              "1  2013     AGUA FRIA DE GOIAS     138.652268\n",
              "2  2013  AGUAS LINDAS DE GOIAS     157.329448\n",
              "3  2013               ALEXANIA     146.140308\n",
              "4  2013  ALTO PARAISO DE GOIAS     155.457581"
            ]
          },
          "metadata": {
            "tags": []
          },
          "execution_count": 16
        }
      ]
    },
    {
      "cell_type": "code",
      "metadata": {
        "id": "GdQCQCKulNG8",
        "colab_type": "code",
        "colab": {
          "base_uri": "https://localhost:8080/",
          "height": 266
        },
        "outputId": "19423340-5bce-43fc-bcde-11e2e53aea86"
      },
      "source": [
        "#media_ano.groupby(['ANO','NOME_MUNICIPIO']).head()\n",
        "#media_ano.groupby('NOME_MUNICIPIO').head(2)\n",
        "media_ano.loc[media_ano['NOME_MUNICIPIO'] == 'FORMOSA']"
      ],
      "execution_count": null,
      "outputs": [
        {
          "output_type": "execute_result",
          "data": {
            "text/html": [
              "<div>\n",
              "<style scoped>\n",
              "    .dataframe tbody tr th:only-of-type {\n",
              "        vertical-align: middle;\n",
              "    }\n",
              "\n",
              "    .dataframe tbody tr th {\n",
              "        vertical-align: top;\n",
              "    }\n",
              "\n",
              "    .dataframe thead th {\n",
              "        text-align: right;\n",
              "    }\n",
              "</style>\n",
              "<table border=\"1\" class=\"dataframe\">\n",
              "  <thead>\n",
              "    <tr style=\"text-align: right;\">\n",
              "      <th></th>\n",
              "      <th>ANO</th>\n",
              "      <th>NOME_MUNICIPIO</th>\n",
              "      <th>VALOR_PARCELA</th>\n",
              "    </tr>\n",
              "  </thead>\n",
              "  <tbody>\n",
              "    <tr>\n",
              "      <th>18</th>\n",
              "      <td>2013</td>\n",
              "      <td>FORMOSA</td>\n",
              "      <td>139.805577</td>\n",
              "    </tr>\n",
              "    <tr>\n",
              "      <th>52</th>\n",
              "      <td>2014</td>\n",
              "      <td>FORMOSA</td>\n",
              "      <td>153.638682</td>\n",
              "    </tr>\n",
              "    <tr>\n",
              "      <th>86</th>\n",
              "      <td>2015</td>\n",
              "      <td>FORMOSA</td>\n",
              "      <td>156.615636</td>\n",
              "    </tr>\n",
              "    <tr>\n",
              "      <th>120</th>\n",
              "      <td>2016</td>\n",
              "      <td>FORMOSA</td>\n",
              "      <td>159.806835</td>\n",
              "    </tr>\n",
              "    <tr>\n",
              "      <th>154</th>\n",
              "      <td>2017</td>\n",
              "      <td>FORMOSA</td>\n",
              "      <td>167.166775</td>\n",
              "    </tr>\n",
              "    <tr>\n",
              "      <th>188</th>\n",
              "      <td>2018</td>\n",
              "      <td>FORMOSA</td>\n",
              "      <td>166.397753</td>\n",
              "    </tr>\n",
              "    <tr>\n",
              "      <th>222</th>\n",
              "      <td>2019</td>\n",
              "      <td>FORMOSA</td>\n",
              "      <td>165.167891</td>\n",
              "    </tr>\n",
              "  </tbody>\n",
              "</table>\n",
              "</div>"
            ],
            "text/plain": [
              "      ANO NOME_MUNICIPIO  VALOR_PARCELA\n",
              "18   2013        FORMOSA     139.805577\n",
              "52   2014        FORMOSA     153.638682\n",
              "86   2015        FORMOSA     156.615636\n",
              "120  2016        FORMOSA     159.806835\n",
              "154  2017        FORMOSA     167.166775\n",
              "188  2018        FORMOSA     166.397753\n",
              "222  2019        FORMOSA     165.167891"
            ]
          },
          "metadata": {
            "tags": []
          },
          "execution_count": 25
        }
      ]
    },
    {
      "cell_type": "code",
      "metadata": {
        "id": "5akTGkwE3RAA",
        "colab_type": "code",
        "colab": {}
      },
      "source": [
        "#del media_ano['Unnamed: 0']\n",
        "media_ano = pd.pivot_table(data=media_ano, index='NOME_MUNICIPIO', values='VALOR_PARCELA', columns='ANO')"
      ],
      "execution_count": null,
      "outputs": []
    },
    {
      "cell_type": "code",
      "metadata": {
        "id": "WkbD8hPf5-sI",
        "colab_type": "code",
        "colab": {}
      },
      "source": [
        "plt.figure(figsize=(12,9))\n",
        "sns.heatmap(media_ano, annot=True,  fmt=\".1f\")"
      ],
      "execution_count": null,
      "outputs": []
    },
    {
      "cell_type": "code",
      "metadata": {
        "id": "ET1JJQy7mEN0",
        "colab_type": "code",
        "colab": {
          "base_uri": "https://localhost:8080/",
          "height": 568
        },
        "outputId": "0df73b8b-f17a-4dd8-bb17-929a5fe9a408"
      },
      "source": [
        "plt.figure(figsize=(9,9))\n",
        "p = sns.heatmap(media_ano, cmap='YlOrRd', annot=True, fmt=\".1f\")\n",
        "plt.xlabel('Ano')\n",
        "plt.ylabel('Município')"
      ],
      "execution_count": null,
      "outputs": [
        {
          "output_type": "execute_result",
          "data": {
            "text/plain": [
              "Text(59.999999999999986, 0.5, 'Município')"
            ]
          },
          "metadata": {
            "tags": []
          },
          "execution_count": 42
        },
        {
          "output_type": "display_data",
          "data": {
            "image/png": "[encoded data removed]",
            "text/plain": [
              "<Figure size 648x648 with 2 Axes>"
            ]
          },
          "metadata": {
            "tags": [],
            "needs_background": "light"
          }
        }
      ]
    },
    {
      "cell_type": "code",
      "metadata": {
        "id": "LsOjEPo3mEIN",
        "colab_type": "code",
        "colab": {}
      },
      "source": [
        "p.get_figure().savefig('heatmap.png')"
      ],
      "execution_count": null,
      "outputs": []
    },
    {
      "cell_type": "markdown",
      "metadata": {
        "id": "OaIRvuYAiIx3",
        "colab_type": "text"
      },
      "source": [
        "## Média por Mês"
      ]
    },
    {
      "cell_type": "code",
      "metadata": {
        "id": "pX11g_0bQcem",
        "colab_type": "code",
        "colab": {}
      },
      "source": [
        "# Verificando o valor médio da parcela por mês de referência de cada cidade\n",
        "media = df.groupby(['MES_REFERENCIA', 'NOME_MUNICIPIO'])['VALOR_PARCELA'].mean()"
      ],
      "execution_count": null,
      "outputs": []
    },
    {
      "cell_type": "code",
      "metadata": {
        "id": "h2oMJn1ZRJSj",
        "colab_type": "code",
        "colab": {}
      },
      "source": [
        "media"
      ],
      "execution_count": null,
      "outputs": []
    },
    {
      "cell_type": "code",
      "metadata": {
        "id": "n-QZZIiBSE3G",
        "colab_type": "code",
        "colab": {
          "base_uri": "https://localhost:8080/",
          "height": 34
        },
        "outputId": "e4054258-7015-4054-892e-2a85fd62a527"
      },
      "source": [
        "media.shape"
      ],
      "execution_count": null,
      "outputs": [
        {
          "output_type": "execute_result",
          "data": {
            "text/plain": [
              "(238,)"
            ]
          },
          "metadata": {
            "tags": []
          },
          "execution_count": 56
        }
      ]
    },
    {
      "cell_type": "code",
      "metadata": {
        "id": "xlDVvypWSWrB",
        "colab_type": "code",
        "colab": {}
      },
      "source": [
        "media.to_csv('dataset_media_mes_new.csv')"
      ],
      "execution_count": null,
      "outputs": []
    },
    {
      "cell_type": "markdown",
      "metadata": {
        "id": "TsBNIkNQB2u0",
        "colab_type": "text"
      },
      "source": [
        "## Agora iremos trabalhar com o novo arquivo criado (dataset_media_ano_new.csv)"
      ]
    },
    {
      "cell_type": "code",
      "metadata": {
        "id": "pSOpnaBuSi8x",
        "colab_type": "code",
        "colab": {}
      },
      "source": [
        "new_df = pd.read_csv('/content/dataset_media_mes_new.csv')"
      ],
      "execution_count": null,
      "outputs": []
    },
    {
      "cell_type": "code",
      "metadata": {
        "id": "EVUjPausSkJn",
        "colab_type": "code",
        "colab": {
          "base_uri": "https://localhost:8080/",
          "height": 204
        },
        "outputId": "af46e26f-d947-494d-97ef-be2f93822ba8"
      },
      "source": [
        "new_df.head()"
      ],
      "execution_count": null,
      "outputs": [
        {
          "output_type": "execute_result",
          "data": {
            "text/html": [
              "<div>\n",
              "<style scoped>\n",
              "    .dataframe tbody tr th:only-of-type {\n",
              "        vertical-align: middle;\n",
              "    }\n",
              "\n",
              "    .dataframe tbody tr th {\n",
              "        vertical-align: top;\n",
              "    }\n",
              "\n",
              "    .dataframe thead th {\n",
              "        text-align: right;\n",
              "    }\n",
              "</style>\n",
              "<table border=\"1\" class=\"dataframe\">\n",
              "  <thead>\n",
              "    <tr style=\"text-align: right;\">\n",
              "      <th></th>\n",
              "      <th>ANO</th>\n",
              "      <th>NOME_MUNICIPIO</th>\n",
              "      <th>VALOR_PARCELA</th>\n",
              "    </tr>\n",
              "  </thead>\n",
              "  <tbody>\n",
              "    <tr>\n",
              "      <th>0</th>\n",
              "      <td>2013</td>\n",
              "      <td>ACREUNA</td>\n",
              "      <td>148.672540</td>\n",
              "    </tr>\n",
              "    <tr>\n",
              "      <th>1</th>\n",
              "      <td>2013</td>\n",
              "      <td>AGUA FRIA DE GOIAS</td>\n",
              "      <td>138.652268</td>\n",
              "    </tr>\n",
              "    <tr>\n",
              "      <th>2</th>\n",
              "      <td>2013</td>\n",
              "      <td>AGUAS LINDAS DE GOIAS</td>\n",
              "      <td>157.329448</td>\n",
              "    </tr>\n",
              "    <tr>\n",
              "      <th>3</th>\n",
              "      <td>2013</td>\n",
              "      <td>ALEXANIA</td>\n",
              "      <td>146.140308</td>\n",
              "    </tr>\n",
              "    <tr>\n",
              "      <th>4</th>\n",
              "      <td>2013</td>\n",
              "      <td>ALTO PARAISO DE GOIAS</td>\n",
              "      <td>155.457581</td>\n",
              "    </tr>\n",
              "  </tbody>\n",
              "</table>\n",
              "</div>"
            ],
            "text/plain": [
              "    ANO         NOME_MUNICIPIO  VALOR_PARCELA\n",
              "0  2013                ACREUNA     148.672540\n",
              "1  2013     AGUA FRIA DE GOIAS     138.652268\n",
              "2  2013  AGUAS LINDAS DE GOIAS     157.329448\n",
              "3  2013               ALEXANIA     146.140308\n",
              "4  2013  ALTO PARAISO DE GOIAS     155.457581"
            ]
          },
          "metadata": {
            "tags": []
          },
          "execution_count": 155
        }
      ]
    },
    {
      "cell_type": "code",
      "metadata": {
        "id": "6Rc3kjg8SpiH",
        "colab_type": "code",
        "colab": {
          "base_uri": "https://localhost:8080/",
          "height": 34
        },
        "outputId": "3a8dbb51-b688-42b3-fb56-ca2b92f62432"
      },
      "source": [
        "new_df.shape"
      ],
      "execution_count": null,
      "outputs": [
        {
          "output_type": "execute_result",
          "data": {
            "text/plain": [
              "(238, 3)"
            ]
          },
          "metadata": {
            "tags": []
          },
          "execution_count": 156
        }
      ]
    },
    {
      "cell_type": "code",
      "metadata": {
        "id": "RZl14mucEx1M",
        "colab_type": "code",
        "colab": {}
      },
      "source": [
        "new_df['ANO'] = 'NaN'"
      ],
      "execution_count": null,
      "outputs": []
    },
    {
      "cell_type": "code",
      "metadata": {
        "id": "92y-BmG6Aov0",
        "colab_type": "code",
        "colab": {}
      },
      "source": [
        "df_2013 = new_df.loc[new_df['MES_REFERENCIA'].between(201301, 201312)].replace('NaN', 2013)\n",
        "df_2013 = new_df.loc[new_df['MES_REFERENCIA'].between(201301, 201312)].replace('NaN', 2013)\n",
        "df_2014 = new_df.loc[new_df['MES_REFERENCIA'].between(201401, 201512)].replace('NaN', 2014)\n",
        "df_2015 = new_df.loc[new_df['MES_REFERENCIA'].between(201501, 201512)].replace('NaN', 2015)\n",
        "df_2016 = new_df.loc[new_df['MES_REFERENCIA'].between(201601, 201612)].replace('NaN', 2016)\n",
        "df_2017 = new_df.loc[new_df['MES_REFERENCIA'].between(201701, 201712)].replace('NaN', 2017)\n",
        "df_2018 = new_df.loc[new_df['MES_REFERENCIA'].between(201801, 201812)].replace('NaN', 2018)\n",
        "df_2019 = new_df.loc[new_df['MES_REFERENCIA'].between(201901, 201912)].replace('NaN', 2019)"
      ],
      "execution_count": null,
      "outputs": []
    },
    {
      "cell_type": "code",
      "metadata": {
        "id": "QGSFB5T9EbXi",
        "colab_type": "code",
        "colab": {}
      },
      "source": [
        "result = pd.concat([df_2013,df_2014,df_2015,df_2016,df_2017,df_2018,df_2019])"
      ],
      "execution_count": null,
      "outputs": []
    },
    {
      "cell_type": "code",
      "metadata": {
        "id": "MReUfibJEdA1",
        "colab_type": "code",
        "colab": {}
      },
      "source": [
        "del result['MES_REFERENCIA']\n",
        "result.head()\n"
      ],
      "execution_count": null,
      "outputs": []
    },
    {
      "cell_type": "code",
      "metadata": {
        "id": "qcu8P5RwMvke",
        "colab_type": "code",
        "colab": {}
      },
      "source": [
        "result.to_csv('dataset_media_ano_new.csv')"
      ],
      "execution_count": null,
      "outputs": []
    },
    {
      "cell_type": "code",
      "metadata": {
        "id": "t9akTqljcls0",
        "colab_type": "code",
        "colab": {}
      },
      "source": [
        "result = pd.read_csv('/content/dataset_media_ano_new.csv')"
      ],
      "execution_count": null,
      "outputs": []
    },
    {
      "cell_type": "code",
      "metadata": {
        "id": "SbqgcaMDde3c",
        "colab_type": "code",
        "colab": {}
      },
      "source": [
        "del result['Unnamed: 0']\n",
        "result.head()"
      ],
      "execution_count": null,
      "outputs": []
    },
    {
      "cell_type": "code",
      "metadata": {
        "id": "bumXOIR1NFF1",
        "colab_type": "code",
        "colab": {}
      },
      "source": [
        "result.shape"
      ],
      "execution_count": null,
      "outputs": []
    },
    {
      "cell_type": "code",
      "metadata": {
        "id": "-7QIiYobNe4M",
        "colab_type": "code",
        "colab": {}
      },
      "source": [
        "result.loc[result['NOME_MUNICIPIO'] == 'FORMOSA']"
      ],
      "execution_count": null,
      "outputs": []
    },
    {
      "cell_type": "code",
      "metadata": {
        "id": "JMx92H5uFCKd",
        "colab_type": "code",
        "colab": {}
      },
      "source": [
        "result.groupby(['NOME_MUNICIPIO','ANO'])['VALOR_PARCELA'].mean()"
      ],
      "execution_count": null,
      "outputs": []
    }
  ]
}