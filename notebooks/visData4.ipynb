{
 "cells": [
  {
   "cell_type": "markdown",
   "metadata": {},
   "source": [
    "# Estudo sobre dados retirados do Neo4j"
   ]
  },
  {
   "cell_type": "code",
   "execution_count": 1,
   "metadata": {},
   "outputs": [],
   "source": [
    "#imports\n",
    "import pandas as pd\n",
    "import numpy as np\n",
    "import matplotlib.pyplot as plt\n",
    "import seaborn as sns \n",
    "from sklearn.cluster import KMeans\n",
    "import warnings\n",
    "import os\n",
    "import csv\n",
    "from collections import OrderedDict\n",
    "pd.set_option(\"display.max_rows\", 2000)\n",
    "warnings.filterwarnings(\"ignore\")"
   ]
  },
  {
   "cell_type": "code",
   "execution_count": 2,
   "metadata": {},
   "outputs": [
    {
     "data": {
      "text/html": [
       "<div>\n",
       "<style scoped>\n",
       "    .dataframe tbody tr th:only-of-type {\n",
       "        vertical-align: middle;\n",
       "    }\n",
       "\n",
       "    .dataframe tbody tr th {\n",
       "        vertical-align: top;\n",
       "    }\n",
       "\n",
       "    .dataframe thead th {\n",
       "        text-align: right;\n",
       "    }\n",
       "</style>\n",
       "<table border=\"1\" class=\"dataframe\">\n",
       "  <thead>\n",
       "    <tr style=\"text-align: right;\">\n",
       "      <th></th>\n",
       "      <th>identificacao</th>\n",
       "      <th>estado</th>\n",
       "      <th>qtdEstado</th>\n",
       "      <th>mesC</th>\n",
       "    </tr>\n",
       "  </thead>\n",
       "  <tbody>\n",
       "    <tr>\n",
       "      <th>0</th>\n",
       "      <td>21259030271</td>\n",
       "      <td>[DF]</td>\n",
       "      <td>1</td>\n",
       "      <td>201401</td>\n",
       "    </tr>\n",
       "    <tr>\n",
       "      <th>1</th>\n",
       "      <td>16005405056</td>\n",
       "      <td>[DF]</td>\n",
       "      <td>1</td>\n",
       "      <td>201401</td>\n",
       "    </tr>\n",
       "    <tr>\n",
       "      <th>2</th>\n",
       "      <td>20107035361</td>\n",
       "      <td>[DF]</td>\n",
       "      <td>1</td>\n",
       "      <td>201401</td>\n",
       "    </tr>\n",
       "    <tr>\n",
       "      <th>3</th>\n",
       "      <td>21204693368</td>\n",
       "      <td>[DF]</td>\n",
       "      <td>1</td>\n",
       "      <td>201401</td>\n",
       "    </tr>\n",
       "    <tr>\n",
       "      <th>4</th>\n",
       "      <td>12780258278</td>\n",
       "      <td>[DF]</td>\n",
       "      <td>1</td>\n",
       "      <td>201401</td>\n",
       "    </tr>\n",
       "    <tr>\n",
       "      <th>5</th>\n",
       "      <td>16442590160</td>\n",
       "      <td>[DF]</td>\n",
       "      <td>1</td>\n",
       "      <td>201401</td>\n",
       "    </tr>\n",
       "    <tr>\n",
       "      <th>6</th>\n",
       "      <td>21244667651</td>\n",
       "      <td>[DF]</td>\n",
       "      <td>1</td>\n",
       "      <td>201401</td>\n",
       "    </tr>\n",
       "    <tr>\n",
       "      <th>7</th>\n",
       "      <td>16044824072</td>\n",
       "      <td>[DF]</td>\n",
       "      <td>1</td>\n",
       "      <td>201401</td>\n",
       "    </tr>\n",
       "    <tr>\n",
       "      <th>8</th>\n",
       "      <td>16266260531</td>\n",
       "      <td>[DF]</td>\n",
       "      <td>1</td>\n",
       "      <td>201401</td>\n",
       "    </tr>\n",
       "    <tr>\n",
       "      <th>9</th>\n",
       "      <td>16501555702</td>\n",
       "      <td>[DF]</td>\n",
       "      <td>1</td>\n",
       "      <td>201401</td>\n",
       "    </tr>\n",
       "  </tbody>\n",
       "</table>\n",
       "</div>"
      ],
      "text/plain": [
       "   identificacao estado  qtdEstado    mesC\n",
       "0    21259030271   [DF]          1  201401\n",
       "1    16005405056   [DF]          1  201401\n",
       "2    20107035361   [DF]          1  201401\n",
       "3    21204693368   [DF]          1  201401\n",
       "4    12780258278   [DF]          1  201401\n",
       "5    16442590160   [DF]          1  201401\n",
       "6    21244667651   [DF]          1  201401\n",
       "7    16044824072   [DF]          1  201401\n",
       "8    16266260531   [DF]          1  201401\n",
       "9    16501555702   [DF]          1  201401"
      ]
     },
     "execution_count": 2,
     "metadata": {},
     "output_type": "execute_result"
    }
   ],
   "source": [
    "#Lendo o arquivo e criando um dataframe\n",
    "df = pd.read_csv('./dataset_analysis/2014Uf.csv', low_memory=False)\n",
    "#df = df.astype('category')\n",
    "df.head(10)"
   ]
  },
  {
   "cell_type": "code",
   "execution_count": 3,
   "metadata": {},
   "outputs": [],
   "source": [
    "#Removendo colchetes\n",
    "df['estado'] = df['estado'].str.strip('[]').astype(str)"
   ]
  },
  {
   "cell_type": "code",
   "execution_count": 4,
   "metadata": {},
   "outputs": [
    {
     "data": {
      "text/html": [
       "<div>\n",
       "<style scoped>\n",
       "    .dataframe tbody tr th:only-of-type {\n",
       "        vertical-align: middle;\n",
       "    }\n",
       "\n",
       "    .dataframe tbody tr th {\n",
       "        vertical-align: top;\n",
       "    }\n",
       "\n",
       "    .dataframe thead th {\n",
       "        text-align: right;\n",
       "    }\n",
       "</style>\n",
       "<table border=\"1\" class=\"dataframe\">\n",
       "  <thead>\n",
       "    <tr style=\"text-align: right;\">\n",
       "      <th></th>\n",
       "      <th>identificacao</th>\n",
       "      <th>estado</th>\n",
       "      <th>qtdEstado</th>\n",
       "      <th>mesC</th>\n",
       "    </tr>\n",
       "  </thead>\n",
       "  <tbody>\n",
       "    <tr>\n",
       "      <th>0</th>\n",
       "      <td>21259030271</td>\n",
       "      <td>DF</td>\n",
       "      <td>1</td>\n",
       "      <td>201401</td>\n",
       "    </tr>\n",
       "    <tr>\n",
       "      <th>1</th>\n",
       "      <td>16005405056</td>\n",
       "      <td>DF</td>\n",
       "      <td>1</td>\n",
       "      <td>201401</td>\n",
       "    </tr>\n",
       "    <tr>\n",
       "      <th>2</th>\n",
       "      <td>20107035361</td>\n",
       "      <td>DF</td>\n",
       "      <td>1</td>\n",
       "      <td>201401</td>\n",
       "    </tr>\n",
       "    <tr>\n",
       "      <th>3</th>\n",
       "      <td>21204693368</td>\n",
       "      <td>DF</td>\n",
       "      <td>1</td>\n",
       "      <td>201401</td>\n",
       "    </tr>\n",
       "    <tr>\n",
       "      <th>4</th>\n",
       "      <td>12780258278</td>\n",
       "      <td>DF</td>\n",
       "      <td>1</td>\n",
       "      <td>201401</td>\n",
       "    </tr>\n",
       "    <tr>\n",
       "      <th>5</th>\n",
       "      <td>16442590160</td>\n",
       "      <td>DF</td>\n",
       "      <td>1</td>\n",
       "      <td>201401</td>\n",
       "    </tr>\n",
       "    <tr>\n",
       "      <th>6</th>\n",
       "      <td>21244667651</td>\n",
       "      <td>DF</td>\n",
       "      <td>1</td>\n",
       "      <td>201401</td>\n",
       "    </tr>\n",
       "    <tr>\n",
       "      <th>7</th>\n",
       "      <td>16044824072</td>\n",
       "      <td>DF</td>\n",
       "      <td>1</td>\n",
       "      <td>201401</td>\n",
       "    </tr>\n",
       "    <tr>\n",
       "      <th>8</th>\n",
       "      <td>16266260531</td>\n",
       "      <td>DF</td>\n",
       "      <td>1</td>\n",
       "      <td>201401</td>\n",
       "    </tr>\n",
       "    <tr>\n",
       "      <th>9</th>\n",
       "      <td>16501555702</td>\n",
       "      <td>DF</td>\n",
       "      <td>1</td>\n",
       "      <td>201401</td>\n",
       "    </tr>\n",
       "  </tbody>\n",
       "</table>\n",
       "</div>"
      ],
      "text/plain": [
       "   identificacao estado  qtdEstado    mesC\n",
       "0    21259030271     DF          1  201401\n",
       "1    16005405056     DF          1  201401\n",
       "2    20107035361     DF          1  201401\n",
       "3    21204693368     DF          1  201401\n",
       "4    12780258278     DF          1  201401\n",
       "5    16442590160     DF          1  201401\n",
       "6    21244667651     DF          1  201401\n",
       "7    16044824072     DF          1  201401\n",
       "8    16266260531     DF          1  201401\n",
       "9    16501555702     DF          1  201401"
      ]
     },
     "execution_count": 4,
     "metadata": {},
     "output_type": "execute_result"
    }
   ],
   "source": [
    "df.head(10)"
   ]
  },
  {
   "cell_type": "code",
   "execution_count": 21,
   "metadata": {},
   "outputs": [
    {
     "data": {
      "image/png": "[encoded data removed]",
      "text/plain": [
       "<Figure size 1080x576 with 1 Axes>"
      ]
     },
     "metadata": {
      "needs_background": "light"
     },
     "output_type": "display_data"
    }
   ],
   "source": [
    "# Contagem de Amostras por Estado:\n",
    "plt.figure(1 , figsize = (15 , 8))\n",
    "sns.countplot(y = 'estado' , data = df)\n",
    "plt.show()"
   ]
  },
  {
   "cell_type": "code",
   "execution_count": 22,
   "metadata": {},
   "outputs": [],
   "source": [
    "#Criando dataframe go_df\n",
    "go_df = df.loc[(df['estado']) == 'GO,DF']"
   ]
  },
  {
   "cell_type": "code",
   "execution_count": 23,
   "metadata": {},
   "outputs": [
    {
     "data": {
      "text/html": [
       "<div>\n",
       "<style scoped>\n",
       "    .dataframe tbody tr th:only-of-type {\n",
       "        vertical-align: middle;\n",
       "    }\n",
       "\n",
       "    .dataframe tbody tr th {\n",
       "        vertical-align: top;\n",
       "    }\n",
       "\n",
       "    .dataframe thead th {\n",
       "        text-align: right;\n",
       "    }\n",
       "</style>\n",
       "<table border=\"1\" class=\"dataframe\">\n",
       "  <thead>\n",
       "    <tr style=\"text-align: right;\">\n",
       "      <th></th>\n",
       "      <th>identificacao</th>\n",
       "      <th>estado</th>\n",
       "      <th>qtdEstado</th>\n",
       "      <th>mesC</th>\n",
       "    </tr>\n",
       "  </thead>\n",
       "  <tbody>\n",
       "    <tr>\n",
       "      <th>111793</th>\n",
       "      <td>12581046270</td>\n",
       "      <td>GO,DF</td>\n",
       "      <td>2</td>\n",
       "      <td>201401</td>\n",
       "    </tr>\n",
       "  </tbody>\n",
       "</table>\n",
       "</div>"
      ],
      "text/plain": [
       "        identificacao estado  qtdEstado    mesC\n",
       "111793    12581046270  GO,DF          2  201401"
      ]
     },
     "execution_count": 23,
     "metadata": {},
     "output_type": "execute_result"
    }
   ],
   "source": [
    "go_df"
   ]
  },
  {
   "cell_type": "code",
   "execution_count": null,
   "metadata": {},
   "outputs": [],
   "source": []
  }
 ],
 "metadata": {
  "kernelspec": {
   "display_name": "Python 3",
   "language": "python",
   "name": "python3"
  },
  "language_info": {
   "codemirror_mode": {
    "name": "ipython",
    "version": 3
   },
   "file_extension": ".py",
   "mimetype": "text/x-python",
   "name": "python",
   "nbconvert_exporter": "python",
   "pygments_lexer": "ipython3",
   "version": "3.7.6"
  }
 },
 "nbformat": 4,
 "nbformat_minor": 4
}
