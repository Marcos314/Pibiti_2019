{
 "cells": [
  {
   "cell_type": "markdown",
   "metadata": {},
   "source": [
    "## Adicionar geometry ao datasetCompleto"
   ]
  },
  {
   "cell_type": "code",
   "execution_count": 2,
   "metadata": {},
   "outputs": [],
   "source": [
    "#imports\n",
    "import pandas as pd\n",
    "import matplotlib.pyplot as plt\n",
    "%matplotlib inline\n",
    "import geopandas as gpd"
   ]
  },
  {
   "cell_type": "markdown",
   "metadata": {},
   "source": [
    "## Lendo arquivo shp com as cidades da RIDE"
   ]
  },
  {
   "cell_type": "code",
   "execution_count": 3,
   "metadata": {},
   "outputs": [],
   "source": [
    "gdf = gpd.read_file('/home/marcos/Desktop/dados/ride_shp/rideTotal.shp')"
   ]
  },
  {
   "cell_type": "code",
   "execution_count": 4,
   "metadata": {},
   "outputs": [
    {
     "data": {
      "text/html": [
       "<div>\n",
       "<style scoped>\n",
       "    .dataframe tbody tr th:only-of-type {\n",
       "        vertical-align: middle;\n",
       "    }\n",
       "\n",
       "    .dataframe tbody tr th {\n",
       "        vertical-align: top;\n",
       "    }\n",
       "\n",
       "    .dataframe thead th {\n",
       "        text-align: right;\n",
       "    }\n",
       "</style>\n",
       "<table border=\"1\" class=\"dataframe\">\n",
       "  <thead>\n",
       "    <tr style=\"text-align: right;\">\n",
       "      <th></th>\n",
       "      <th>NM_MUNICIP</th>\n",
       "      <th>CD_GEOCODM</th>\n",
       "      <th>geometry</th>\n",
       "    </tr>\n",
       "  </thead>\n",
       "  <tbody>\n",
       "    <tr>\n",
       "      <th>0</th>\n",
       "      <td>BRASÍLIA</td>\n",
       "      <td>5300108</td>\n",
       "      <td>POLYGON ((-48.11521 -15.83216, -48.11528 -15.8...</td>\n",
       "    </tr>\n",
       "    <tr>\n",
       "      <th>1</th>\n",
       "      <td>BRASÍLIA</td>\n",
       "      <td>5300108</td>\n",
       "      <td>POLYGON ((-47.75060 -15.91208, -47.75078 -15.9...</td>\n",
       "    </tr>\n",
       "    <tr>\n",
       "      <th>2</th>\n",
       "      <td>BRASÍLIA</td>\n",
       "      <td>5300108</td>\n",
       "      <td>POLYGON ((-47.94150 -15.78556, -47.94286 -15.7...</td>\n",
       "    </tr>\n",
       "    <tr>\n",
       "      <th>3</th>\n",
       "      <td>BRASÍLIA</td>\n",
       "      <td>5300108</td>\n",
       "      <td>POLYGON ((-47.59732 -15.62285, -47.59822 -15.6...</td>\n",
       "    </tr>\n",
       "    <tr>\n",
       "      <th>4</th>\n",
       "      <td>BRASÍLIA</td>\n",
       "      <td>5300108</td>\n",
       "      <td>POLYGON ((-48.18601 -15.65986, -48.18624 -15.6...</td>\n",
       "    </tr>\n",
       "    <tr>\n",
       "      <th>...</th>\n",
       "      <td>...</td>\n",
       "      <td>...</td>\n",
       "      <td>...</td>\n",
       "    </tr>\n",
       "    <tr>\n",
       "      <th>365</th>\n",
       "      <td>NIQUELÂNDIA</td>\n",
       "      <td>5214606</td>\n",
       "      <td>POLYGON ((-49.01486 -14.53729, -49.01492 -14.5...</td>\n",
       "    </tr>\n",
       "    <tr>\n",
       "      <th>366</th>\n",
       "      <td>SÃO JOÃO D'ALIANÇA</td>\n",
       "      <td>5220009</td>\n",
       "      <td>POLYGON ((-47.66011 -14.70660, -47.66176 -14.7...</td>\n",
       "    </tr>\n",
       "    <tr>\n",
       "      <th>367</th>\n",
       "      <td>SIMOLÂNDIA</td>\n",
       "      <td>5220686</td>\n",
       "      <td>POLYGON ((-46.47074 -14.47219, -46.47112 -14.4...</td>\n",
       "    </tr>\n",
       "    <tr>\n",
       "      <th>368</th>\n",
       "      <td>VILA PROPÍCIO</td>\n",
       "      <td>5222302</td>\n",
       "      <td>POLYGON ((-48.91463 -15.20939, -48.91462 -15.2...</td>\n",
       "    </tr>\n",
       "    <tr>\n",
       "      <th>369</th>\n",
       "      <td>ARINOS</td>\n",
       "      <td>3104502</td>\n",
       "      <td>POLYGON ((-46.25531 -15.79598, -46.25482 -15.7...</td>\n",
       "    </tr>\n",
       "  </tbody>\n",
       "</table>\n",
       "<p>370 rows × 3 columns</p>\n",
       "</div>"
      ],
      "text/plain": [
       "             NM_MUNICIP CD_GEOCODM  \\\n",
       "0              BRASÍLIA    5300108   \n",
       "1              BRASÍLIA    5300108   \n",
       "2              BRASÍLIA    5300108   \n",
       "3              BRASÍLIA    5300108   \n",
       "4              BRASÍLIA    5300108   \n",
       "..                  ...        ...   \n",
       "365         NIQUELÂNDIA    5214606   \n",
       "366  SÃO JOÃO D'ALIANÇA    5220009   \n",
       "367          SIMOLÂNDIA    5220686   \n",
       "368       VILA PROPÍCIO    5222302   \n",
       "369              ARINOS    3104502   \n",
       "\n",
       "                                              geometry  \n",
       "0    POLYGON ((-48.11521 -15.83216, -48.11528 -15.8...  \n",
       "1    POLYGON ((-47.75060 -15.91208, -47.75078 -15.9...  \n",
       "2    POLYGON ((-47.94150 -15.78556, -47.94286 -15.7...  \n",
       "3    POLYGON ((-47.59732 -15.62285, -47.59822 -15.6...  \n",
       "4    POLYGON ((-48.18601 -15.65986, -48.18624 -15.6...  \n",
       "..                                                 ...  \n",
       "365  POLYGON ((-49.01486 -14.53729, -49.01492 -14.5...  \n",
       "366  POLYGON ((-47.66011 -14.70660, -47.66176 -14.7...  \n",
       "367  POLYGON ((-46.47074 -14.47219, -46.47112 -14.4...  \n",
       "368  POLYGON ((-48.91463 -15.20939, -48.91462 -15.2...  \n",
       "369  POLYGON ((-46.25531 -15.79598, -46.25482 -15.7...  \n",
       "\n",
       "[370 rows x 3 columns]"
      ]
     },
     "execution_count": 4,
     "metadata": {},
     "output_type": "execute_result"
    }
   ],
   "source": [
    "gdf"
   ]
  },
  {
   "cell_type": "markdown",
   "metadata": {},
   "source": [
    "## Lendo Dataframe completo com todos os meses"
   ]
  },
  {
   "cell_type": "code",
   "execution_count": null,
   "metadata": {},
   "outputs": [],
   "source": [
    "df = pd.read_csv('/home/marcos/Desktop/dados/clean_data/datasetCompleto2.csv')"
   ]
  },
  {
   "cell_type": "code",
   "execution_count": null,
   "metadata": {},
   "outputs": [],
   "source": []
  }
 ],
 "metadata": {
  "kernelspec": {
   "display_name": "Python 3",
   "language": "python",
   "name": "python3"
  },
  "language_info": {
   "codemirror_mode": {
    "name": "ipython",
    "version": 3
   },
   "file_extension": ".py",
   "mimetype": "text/x-python",
   "name": "python",
   "nbconvert_exporter": "python",
   "pygments_lexer": "ipython3",
   "version": "3.7.6"
  }
 },
 "nbformat": 4,
 "nbformat_minor": 4
}
